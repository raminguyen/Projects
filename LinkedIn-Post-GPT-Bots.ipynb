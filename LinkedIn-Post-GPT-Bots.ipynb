{
  "nbformat": 4,
  "nbformat_minor": 0,
  "metadata": {
    "colab": {
      "provenance": []
    },
    "kernelspec": {
      "name": "python3",
      "display_name": "Python 3"
    },
    "language_info": {
      "name": "python"
    }
  },
  "cells": [
    {
      "cell_type": "markdown",
      "source": [
        "I utilized the following code to automate a LinkedIn post using the GPT-4 Turbo model and retrieve 10 resources from Google."
      ],
      "metadata": {
        "id": "K7_b_EYqd3AU"
      }
    },
    {
      "cell_type": "code",
      "source": [
        "pip install openai==0.28"
      ],
      "metadata": {
        "colab": {
          "base_uri": "https://localhost:8080/",
          "height": 497
        },
        "id": "A9W0eYn-pbAC",
        "outputId": "2a5bc4fc-be65-4c7b-8603-16cd3acafbaa"
      },
      "execution_count": null,
      "outputs": [
        {
          "output_type": "stream",
          "name": "stdout",
          "text": [
            "Collecting openai==0.28\n",
            "  Downloading openai-0.28.0-py3-none-any.whl (76 kB)\n",
            "\u001b[2K     \u001b[90m━━━━━━━━━━━━━━━━━━━━━━━━━━━━━━━━━━━━━━━━\u001b[0m \u001b[32m76.5/76.5 kB\u001b[0m \u001b[31m1.2 MB/s\u001b[0m eta \u001b[36m0:00:00\u001b[0m\n",
            "\u001b[?25hRequirement already satisfied: requests>=2.20 in /usr/local/lib/python3.10/dist-packages (from openai==0.28) (2.31.0)\n",
            "Requirement already satisfied: tqdm in /usr/local/lib/python3.10/dist-packages (from openai==0.28) (4.66.4)\n",
            "Requirement already satisfied: aiohttp in /usr/local/lib/python3.10/dist-packages (from openai==0.28) (3.9.5)\n",
            "Requirement already satisfied: charset-normalizer<4,>=2 in /usr/local/lib/python3.10/dist-packages (from requests>=2.20->openai==0.28) (3.3.2)\n",
            "Requirement already satisfied: idna<4,>=2.5 in /usr/local/lib/python3.10/dist-packages (from requests>=2.20->openai==0.28) (3.7)\n",
            "Requirement already satisfied: urllib3<3,>=1.21.1 in /usr/local/lib/python3.10/dist-packages (from requests>=2.20->openai==0.28) (2.0.7)\n",
            "Requirement already satisfied: certifi>=2017.4.17 in /usr/local/lib/python3.10/dist-packages (from requests>=2.20->openai==0.28) (2024.2.2)\n",
            "Requirement already satisfied: aiosignal>=1.1.2 in /usr/local/lib/python3.10/dist-packages (from aiohttp->openai==0.28) (1.3.1)\n",
            "Requirement already satisfied: attrs>=17.3.0 in /usr/local/lib/python3.10/dist-packages (from aiohttp->openai==0.28) (23.2.0)\n",
            "Requirement already satisfied: frozenlist>=1.1.1 in /usr/local/lib/python3.10/dist-packages (from aiohttp->openai==0.28) (1.4.1)\n",
            "Requirement already satisfied: multidict<7.0,>=4.5 in /usr/local/lib/python3.10/dist-packages (from aiohttp->openai==0.28) (6.0.5)\n",
            "Requirement already satisfied: yarl<2.0,>=1.0 in /usr/local/lib/python3.10/dist-packages (from aiohttp->openai==0.28) (1.9.4)\n",
            "Requirement already satisfied: async-timeout<5.0,>=4.0 in /usr/local/lib/python3.10/dist-packages (from aiohttp->openai==0.28) (4.0.3)\n",
            "Installing collected packages: openai\n",
            "  Attempting uninstall: openai\n",
            "    Found existing installation: openai 1.28.0\n",
            "    Uninstalling openai-1.28.0:\n",
            "      Successfully uninstalled openai-1.28.0\n",
            "Successfully installed openai-0.28.0\n"
          ]
        },
        {
          "output_type": "display_data",
          "data": {
            "application/vnd.colab-display-data+json": {
              "pip_warning": {
                "packages": [
                  "openai"
                ]
              },
              "id": "ba69e9ac256b493c9e744fabb02261ee"
            }
          },
          "metadata": {}
        }
      ]
    },
    {
      "cell_type": "code",
      "source": [
        "pip install openai"
      ],
      "metadata": {
        "colab": {
          "base_uri": "https://localhost:8080/"
        },
        "id": "nBcGrvM9pKIx",
        "outputId": "0ec7d387-f681-48a2-97fa-e34325bf0573"
      },
      "execution_count": null,
      "outputs": [
        {
          "output_type": "stream",
          "name": "stdout",
          "text": [
            "Collecting openai\n",
            "  Downloading openai-1.28.0-py3-none-any.whl (320 kB)\n",
            "\u001b[2K     \u001b[90m━━━━━━━━━━━━━━━━━━━━━━━━━━━━━━━━━━━━━━━━\u001b[0m \u001b[32m320.1/320.1 kB\u001b[0m \u001b[31m1.4 MB/s\u001b[0m eta \u001b[36m0:00:00\u001b[0m\n",
            "\u001b[?25hRequirement already satisfied: anyio<5,>=3.5.0 in /usr/local/lib/python3.10/dist-packages (from openai) (3.7.1)\n",
            "Requirement already satisfied: distro<2,>=1.7.0 in /usr/lib/python3/dist-packages (from openai) (1.7.0)\n",
            "Collecting httpx<1,>=0.23.0 (from openai)\n",
            "  Downloading httpx-0.27.0-py3-none-any.whl (75 kB)\n",
            "\u001b[2K     \u001b[90m━━━━━━━━━━━━━━━━━━━━━━━━━━━━━━━━━━━━━━━━\u001b[0m \u001b[32m75.6/75.6 kB\u001b[0m \u001b[31m1.7 MB/s\u001b[0m eta \u001b[36m0:00:00\u001b[0m\n",
            "\u001b[?25hRequirement already satisfied: pydantic<3,>=1.9.0 in /usr/local/lib/python3.10/dist-packages (from openai) (2.7.1)\n",
            "Requirement already satisfied: sniffio in /usr/local/lib/python3.10/dist-packages (from openai) (1.3.1)\n",
            "Requirement already satisfied: tqdm>4 in /usr/local/lib/python3.10/dist-packages (from openai) (4.66.4)\n",
            "Requirement already satisfied: typing-extensions<5,>=4.7 in /usr/local/lib/python3.10/dist-packages (from openai) (4.11.0)\n",
            "Requirement already satisfied: idna>=2.8 in /usr/local/lib/python3.10/dist-packages (from anyio<5,>=3.5.0->openai) (3.7)\n",
            "Requirement already satisfied: exceptiongroup in /usr/local/lib/python3.10/dist-packages (from anyio<5,>=3.5.0->openai) (1.2.1)\n",
            "Requirement already satisfied: certifi in /usr/local/lib/python3.10/dist-packages (from httpx<1,>=0.23.0->openai) (2024.2.2)\n",
            "Collecting httpcore==1.* (from httpx<1,>=0.23.0->openai)\n",
            "  Downloading httpcore-1.0.5-py3-none-any.whl (77 kB)\n",
            "\u001b[2K     \u001b[90m━━━━━━━━━━━━━━━━━━━━━━━━━━━━━━━━━━━━━━━━\u001b[0m \u001b[32m77.9/77.9 kB\u001b[0m \u001b[31m1.6 MB/s\u001b[0m eta \u001b[36m0:00:00\u001b[0m\n",
            "\u001b[?25hCollecting h11<0.15,>=0.13 (from httpcore==1.*->httpx<1,>=0.23.0->openai)\n",
            "  Downloading h11-0.14.0-py3-none-any.whl (58 kB)\n",
            "\u001b[2K     \u001b[90m━━━━━━━━━━━━━━━━━━━━━━━━━━━━━━━━━━━━━━━━\u001b[0m \u001b[32m58.3/58.3 kB\u001b[0m \u001b[31m1.9 MB/s\u001b[0m eta \u001b[36m0:00:00\u001b[0m\n",
            "\u001b[?25hRequirement already satisfied: annotated-types>=0.4.0 in /usr/local/lib/python3.10/dist-packages (from pydantic<3,>=1.9.0->openai) (0.6.0)\n",
            "Requirement already satisfied: pydantic-core==2.18.2 in /usr/local/lib/python3.10/dist-packages (from pydantic<3,>=1.9.0->openai) (2.18.2)\n",
            "Installing collected packages: h11, httpcore, httpx, openai\n",
            "Successfully installed h11-0.14.0 httpcore-1.0.5 httpx-0.27.0 openai-1.28.0\n"
          ]
        }
      ]
    },
    {
      "cell_type": "markdown",
      "source": [],
      "metadata": {
        "id": "gFzKZ0PGdx9l"
      }
    },
    {
      "cell_type": "code",
      "execution_count": null,
      "metadata": {
        "id": "o275e2LnotXV"
      },
      "outputs": [],
      "source": [
        "import openai\n",
        "from googlesearch import search\n",
        "import openai\n",
        "import re\n",
        "\n",
        "# Set your OpenAI API key\n",
        "openai.api_key = ''\n",
        "\n",
        "# Define the prompt format for a LinkedIn post\n",
        "prompt_format = \"\"\"Create a LinkedIn blog post about how social marketing can be used in 2024 using straightforward tone. Also, using sources, the output must include the sources.\n",
        "                Bold the headings, plus the emojis, make sure each paragraph has 50 words\"\"\"\n",
        "\n",
        "# Perform a web search for relevant information\n",
        "search_query = \"Social marketing strategies for 2024 in Boston, MA\"\n",
        "search_results = list(search(search_query, num=10, stop=10))\n",
        "\n",
        "# Generate text using GPT-3\n",
        "response = openai.ChatCompletion.create(\n",
        "    model='gpt-4-turbo',\n",
        "    messages=[\n",
        "        {\"role\": \"system\", \"content\": \"You are a LinkedIN expert assistant.\"},\n",
        "        {\"role\": \"user\", \"content\": prompt_format}\n",
        "    ],\n",
        "    max_tokens=2000,  # Maximum number of tokens in the completion\n",
        "    top_p=0.9,       # Nucleus sampling parameter\n",
        "    frequency_penalty=1,  # Penalize frequent tokens\n",
        "    presence_penalty=1,   # Penalize tokens already present in the prompt\n",
        "    temperature=0.5  # Control randomness of the generated text\n",
        ")\n"
      ]
    },
    {
      "cell_type": "code",
      "source": [
        "# Print the search results\n",
        "print(\"Search Results:\")\n",
        "for i, result in enumerate(search_results, start=1):\n",
        "    print(f\"{i}. {result}\")\n",
        "\n",
        "# Print a separator\n",
        "print(\"-\" * 50)\n",
        "\n",
        "# Split the text into sentences and print them with line breaks\n",
        "output_text = response['choices'][0]['message']['content']\n",
        "sentences = re.split(r'(?<=[.!?])\\s+', output_text)\n",
        "for sentence in sentences:\n",
        "    print(sentence)\n",
        "    print()  # Add a line break after each sentence"
      ],
      "metadata": {
        "colab": {
          "base_uri": "https://localhost:8080/"
        },
        "id": "BQK5pBglo4pL",
        "outputId": "5609bac5-f8f2-4afd-ef62-fa64c972305d"
      },
      "execution_count": null,
      "outputs": [
        {
          "output_type": "stream",
          "name": "stdout",
          "text": [
            "Search Results:\n",
            "1. https://jemsu.com/what-are-the-best-social-media-advertising-strategies-for-boston-companies-in-2024/\n",
            "2. https://www.case.org/conferences-training/social-media-and-community-2024\n",
            "3. https://jemsu.com/how-can-i-effectively-utilize-social-media-advertising-for-my-boston-business-in-2024/\n",
            "4. https://www.gnhcc.com/events/details/digimarcon-new-england-2024-digital-marketing-media-and-advertising-conference-exhibition-23700\n",
            "5. https://www.heyorca.com/blog/marketing-and-social-media-marketing-conferences\n",
            "6. https://www.reddit.com/r/digital_marketing/comments/194u50a/what_are_the_key_elements_of_a_successful_social/\n",
            "7. https://www.sagefrog.com/blog/7-social-media-marketing-tips-for-beginners/\n",
            "8. https://stitchdx.com/social-media-marketing-strategy/\n",
            "9. https://www.vistaprint.com/news/2024_small_business_marketing_report\n",
            "10. https://www.thesmallbusinessexpo.com/city/boston/\n",
            "--------------------------------------------------\n",
            "**The Power of Social Marketing in 2024: Trends and Strategies**\n",
            "\n",
            "In the ever-evolving landscape of digital marketing, social media continues to reign supreme.\n",
            "\n",
            "As we approach 2024, understanding how to leverage these platforms effectively is crucial for any business aiming to stay ahead.\n",
            "\n",
            "Here’s a look at why social marketing remains indispensable and how you can harness its potential.\n",
            "\n",
            "**📈 Understanding the Impact**\n",
            "\n",
            "Social media's reach is undeniable.\n",
            "\n",
            "According to Statista, over 3.6 billion people were using social media worldwide in 2020, projected to increase to almost 4.41 billion by 2025 (Statista).\n",
            "\n",
            "This vast pool of users presents a fertile ground for businesses looking to expand their visibility and engagement.\n",
            "\n",
            "**🎯 Precision Targeting Made Easy**\n",
            "\n",
            "One key advantage of social marketing lies in targeting precision.\n",
            "\n",
            "Platforms like Facebook and Instagram offer advanced tools that allow marketers to hone in on specific demographics based on interests, behaviors, and location (Facebook Business).\n",
            "\n",
            "Leveraging these tools ensures your message reaches the right audience without wastage.\n",
            "\n",
            "**💡 Innovative Content Drives Engagement**\n",
            "\n",
            "Creativity wins attention!\n",
            "\n",
            "The digital space thrives on innovation; hence your content needs stand out.\n",
            "\n",
            "Video content will continue dominating given its high engagement rates (HubSpot).\n",
            "\n",
            "Whether it’s short-form videos like those popular on TikTok or long-form content on YouTube, visual storytelling can captivate audiences more effectively than other formats.\n",
            "\n",
            "**🔄 Feedback Loop for Improvement**\n",
            "\n",
            "Social media isn’t just about broadcasting—it’s also an excellent channel for feedback.\n",
            "\n",
            "Engaging with customers directly through comments or reviews helps improve services/products while building trust and loyalty (Forbes).\n",
            "\n",
            "This two-way communication fosters a community around brands which can lead to higher retention rates.\n",
            "\n",
            "As we gear up for another year marked by technological advancements and shifting consumer habits, incorporating robust social marketing strategies becomes not just beneficial but essential.\n",
            "\n",
            "\n",
            "\n"
          ]
        }
      ]
    }
  ]
}