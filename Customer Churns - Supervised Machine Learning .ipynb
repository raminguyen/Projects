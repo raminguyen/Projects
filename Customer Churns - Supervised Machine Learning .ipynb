{
 "cells": [
  {
   "cell_type": "markdown",
   "id": "8b1fca77-e856-46cc-8249-b028075d8210",
   "metadata": {
    "id": "8b1fca77-e856-46cc-8249-b028075d8210"
   },
   "source": [
    "# Supervised Machine Learning\n",
    "\n",
    "In this lab, I use sklearn and statsmodel package to fit machine learning models for predictive and explainatory purposes.\n",
    "\n",
    "## Machine Learning For Predictive Purposes\n",
    "- KNN\n",
    "- Logistic Regression\n",
    "- SVM\n",
    "- Naive Bayes\n",
    "- Decision Tree\n",
    "- Random Forest\n",
    "- Gradient Boost\n",
    "\n",
    "### Model Selection\n",
    "- Grid Search\n",
    "- General Ensembled Classifier\n",
    "\n",
    "## Machine Learning For Explainatory Purposes\n",
    "- Linear / Logistic Regression\n",
    "- Permutation feature importance"
   ]
  },
  {
   "cell_type": "code",
   "execution_count": 3,
   "id": "2453ca72-eab4-4d84-a6cd-4861fd695dba",
   "metadata": {
    "id": "2453ca72-eab4-4d84-a6cd-4861fd695dba"
   },
   "outputs": [
    {
     "ename": "SyntaxError",
     "evalue": "invalid syntax (539283886.py, line 11)",
     "output_type": "error",
     "traceback": [
      "\u001b[0;36m  Cell \u001b[0;32mIn[3], line 11\u001b[0;36m\u001b[0m\n\u001b[0;31m    git pull\u001b[0m\n\u001b[0m        ^\u001b[0m\n\u001b[0;31mSyntaxError\u001b[0m\u001b[0;31m:\u001b[0m invalid syntax\n"
     ]
    }
   ],
   "source": [
    "import pandas as pd\n",
    "import numpy as np\n",
    "import matplotlib.pyplot as plt\n",
    "import seaborn as sns\n",
    "\n",
    "import warnings\n",
    "warnings.filterwarnings(\"ignore\")\n",
    "\n",
    "%matplotlib inline\n"
   ]
  },
  {
   "cell_type": "code",
   "execution_count": 6,
   "id": "d3ab3308-8bf8-424e-b6df-6e6db90ecb01",
   "metadata": {},
   "outputs": [
    {
     "ename": "SyntaxError",
     "evalue": "invalid syntax (510994209.py, line 1)",
     "output_type": "error",
     "traceback": [
      "\u001b[0;36m  Cell \u001b[0;32mIn[6], line 1\u001b[0;36m\u001b[0m\n\u001b[0;31m    git commit - m\u001b[0m\n\u001b[0m        ^\u001b[0m\n\u001b[0;31mSyntaxError\u001b[0m\u001b[0;31m:\u001b[0m invalid syntax\n"
     ]
    }
   ],
   "source": []
  },
  {
   "cell_type": "code",
   "execution_count": 5,
   "id": "6ef6cd16-2295-4df2-a08f-10675e6964bb",
   "metadata": {},
   "outputs": [
    {
     "ename": "SyntaxError",
     "evalue": "invalid syntax (1697023450.py, line 1)",
     "output_type": "error",
     "traceback": [
      "\u001b[0;36m  Cell \u001b[0;32mIn[5], line 1\u001b[0;36m\u001b[0m\n\u001b[0;31m    git push\u001b[0m\n\u001b[0m        ^\u001b[0m\n\u001b[0;31mSyntaxError\u001b[0m\u001b[0;31m:\u001b[0m invalid syntax\n"
     ]
    }
   ],
   "source": []
  },
  {
   "cell_type": "markdown",
   "id": "5a58156a-cf62-4785-b7cd-5929b88611ef",
   "metadata": {
    "id": "5a58156a-cf62-4785-b7cd-5929b88611ef"
   },
   "source": [
    "### The Customer Churn Data Set\n",
    "\n",
    "This dataset is randomly collected from an Iranian telecom company databaseover a period of 12 months.\n",
    "\n",
    "A total of 3150 rows of data, each representing a customer, bear information for 13 columns. The attributes that are in this dataset are call failures, frequency of SMS, number of complaints, number of distinct calls, subscription length, age group, the charge amount, type of service, seconds of use, status, frequency of use, and Customer Value.\n",
    "\n",
    "All of the attributes except for attribute churn is the aggregated data of the first 9 months. The churn labels are the state of the customers at the end of 12 months. The three months is the designated planning gap.\n",
    "\n",
    "**Attribute Information:**\n",
    "\n",
    "- **Call Failures:** number of call failures\n",
    "- **Complains:** binary (0: No complaint, 1: complaint)\n",
    "- **Subscription Length:** **bold text**total months of subscription\n",
    "- **Charge Amount:** Ordinal attribute (0: lowest amount, 9: highest amount)\n",
    "- **Seconds of Use:** total seconds of calls\n",
    "- **Frequency of use:** total number of calls\n",
    "- **Frequency of SMS:** total number of text messages\n",
    "- **Distinct Called Numbers:** total number of distinct phone calls\n",
    "- **Age Group**: ordinal attribute (1: younger age, 5: older age)\n",
    "- **Tariff Plan**: binary (1: Pay as you go, 2: contractual)\n",
    "- **Status**: binary (1: active, 2: non-active)\n",
    "- **Customer Value**: The calculated value of customer\n",
    "- **Churn (Y)**: binary (1: churn, 0: non-churn) - **Class label**"
   ]
  },
  {
   "cell_type": "markdown",
   "id": "fa77c027-3a97-4fb1-a7ac-403b0bc6564a",
   "metadata": {
    "id": "fa77c027-3a97-4fb1-a7ac-403b0bc6564a"
   },
   "source": [
    "## Data Understanding"
   ]
  },
  {
   "cell_type": "code",
   "execution_count": 2,
   "id": "ed09aa02-0472-400a-8b36-c4fbc1091098",
   "metadata": {
    "colab": {
     "base_uri": "https://localhost:8080/",
     "height": 223
    },
    "id": "ed09aa02-0472-400a-8b36-c4fbc1091098",
    "outputId": "9504f9bb-3016-4537-8aee-c11825b73e16"
   },
   "outputs": [
    {
     "data": {
      "text/html": [
       "<div>\n",
       "<style scoped>\n",
       "    .dataframe tbody tr th:only-of-type {\n",
       "        vertical-align: middle;\n",
       "    }\n",
       "\n",
       "    .dataframe tbody tr th {\n",
       "        vertical-align: top;\n",
       "    }\n",
       "\n",
       "    .dataframe thead th {\n",
       "        text-align: right;\n",
       "    }\n",
       "</style>\n",
       "<table border=\"1\" class=\"dataframe\">\n",
       "  <thead>\n",
       "    <tr style=\"text-align: right;\">\n",
       "      <th></th>\n",
       "      <th>Call  Failure</th>\n",
       "      <th>Complains</th>\n",
       "      <th>Subscription  Length</th>\n",
       "      <th>Charge  Amount</th>\n",
       "      <th>Seconds of Use</th>\n",
       "      <th>Frequency of use</th>\n",
       "      <th>Frequency of SMS</th>\n",
       "      <th>Distinct Called Numbers</th>\n",
       "      <th>Age Group</th>\n",
       "      <th>Tariff Plan</th>\n",
       "      <th>Status</th>\n",
       "      <th>Customer Value</th>\n",
       "      <th>Churn</th>\n",
       "    </tr>\n",
       "  </thead>\n",
       "  <tbody>\n",
       "    <tr>\n",
       "      <th>0</th>\n",
       "      <td>8</td>\n",
       "      <td>0</td>\n",
       "      <td>38</td>\n",
       "      <td>0</td>\n",
       "      <td>4370</td>\n",
       "      <td>71</td>\n",
       "      <td>5</td>\n",
       "      <td>17</td>\n",
       "      <td>3</td>\n",
       "      <td>1</td>\n",
       "      <td>1</td>\n",
       "      <td>197.640</td>\n",
       "      <td>0</td>\n",
       "    </tr>\n",
       "    <tr>\n",
       "      <th>1</th>\n",
       "      <td>0</td>\n",
       "      <td>0</td>\n",
       "      <td>39</td>\n",
       "      <td>0</td>\n",
       "      <td>318</td>\n",
       "      <td>5</td>\n",
       "      <td>7</td>\n",
       "      <td>4</td>\n",
       "      <td>2</td>\n",
       "      <td>1</td>\n",
       "      <td>2</td>\n",
       "      <td>46.035</td>\n",
       "      <td>0</td>\n",
       "    </tr>\n",
       "    <tr>\n",
       "      <th>2</th>\n",
       "      <td>10</td>\n",
       "      <td>0</td>\n",
       "      <td>37</td>\n",
       "      <td>0</td>\n",
       "      <td>2453</td>\n",
       "      <td>60</td>\n",
       "      <td>359</td>\n",
       "      <td>24</td>\n",
       "      <td>3</td>\n",
       "      <td>1</td>\n",
       "      <td>1</td>\n",
       "      <td>1536.520</td>\n",
       "      <td>0</td>\n",
       "    </tr>\n",
       "    <tr>\n",
       "      <th>3</th>\n",
       "      <td>10</td>\n",
       "      <td>0</td>\n",
       "      <td>38</td>\n",
       "      <td>0</td>\n",
       "      <td>4198</td>\n",
       "      <td>66</td>\n",
       "      <td>1</td>\n",
       "      <td>35</td>\n",
       "      <td>1</td>\n",
       "      <td>1</td>\n",
       "      <td>1</td>\n",
       "      <td>240.020</td>\n",
       "      <td>0</td>\n",
       "    </tr>\n",
       "    <tr>\n",
       "      <th>4</th>\n",
       "      <td>3</td>\n",
       "      <td>0</td>\n",
       "      <td>38</td>\n",
       "      <td>0</td>\n",
       "      <td>2393</td>\n",
       "      <td>58</td>\n",
       "      <td>2</td>\n",
       "      <td>33</td>\n",
       "      <td>1</td>\n",
       "      <td>1</td>\n",
       "      <td>1</td>\n",
       "      <td>145.805</td>\n",
       "      <td>0</td>\n",
       "    </tr>\n",
       "    <tr>\n",
       "      <th>5</th>\n",
       "      <td>11</td>\n",
       "      <td>0</td>\n",
       "      <td>38</td>\n",
       "      <td>1</td>\n",
       "      <td>3775</td>\n",
       "      <td>82</td>\n",
       "      <td>32</td>\n",
       "      <td>28</td>\n",
       "      <td>3</td>\n",
       "      <td>1</td>\n",
       "      <td>1</td>\n",
       "      <td>282.280</td>\n",
       "      <td>0</td>\n",
       "    </tr>\n",
       "    <tr>\n",
       "      <th>6</th>\n",
       "      <td>4</td>\n",
       "      <td>0</td>\n",
       "      <td>38</td>\n",
       "      <td>0</td>\n",
       "      <td>2360</td>\n",
       "      <td>39</td>\n",
       "      <td>285</td>\n",
       "      <td>18</td>\n",
       "      <td>3</td>\n",
       "      <td>1</td>\n",
       "      <td>1</td>\n",
       "      <td>1235.960</td>\n",
       "      <td>0</td>\n",
       "    </tr>\n",
       "    <tr>\n",
       "      <th>7</th>\n",
       "      <td>13</td>\n",
       "      <td>0</td>\n",
       "      <td>37</td>\n",
       "      <td>2</td>\n",
       "      <td>9115</td>\n",
       "      <td>121</td>\n",
       "      <td>144</td>\n",
       "      <td>43</td>\n",
       "      <td>3</td>\n",
       "      <td>1</td>\n",
       "      <td>1</td>\n",
       "      <td>945.440</td>\n",
       "      <td>0</td>\n",
       "    </tr>\n",
       "    <tr>\n",
       "      <th>8</th>\n",
       "      <td>7</td>\n",
       "      <td>0</td>\n",
       "      <td>38</td>\n",
       "      <td>0</td>\n",
       "      <td>13773</td>\n",
       "      <td>169</td>\n",
       "      <td>0</td>\n",
       "      <td>44</td>\n",
       "      <td>3</td>\n",
       "      <td>1</td>\n",
       "      <td>1</td>\n",
       "      <td>557.680</td>\n",
       "      <td>0</td>\n",
       "    </tr>\n",
       "    <tr>\n",
       "      <th>9</th>\n",
       "      <td>7</td>\n",
       "      <td>0</td>\n",
       "      <td>38</td>\n",
       "      <td>1</td>\n",
       "      <td>4515</td>\n",
       "      <td>83</td>\n",
       "      <td>2</td>\n",
       "      <td>25</td>\n",
       "      <td>3</td>\n",
       "      <td>1</td>\n",
       "      <td>1</td>\n",
       "      <td>191.920</td>\n",
       "      <td>0</td>\n",
       "    </tr>\n",
       "  </tbody>\n",
       "</table>\n",
       "</div>"
      ],
      "text/plain": [
       "   Call  Failure  Complains  Subscription  Length  Charge  Amount  \\\n",
       "0              8          0                    38               0   \n",
       "1              0          0                    39               0   \n",
       "2             10          0                    37               0   \n",
       "3             10          0                    38               0   \n",
       "4              3          0                    38               0   \n",
       "5             11          0                    38               1   \n",
       "6              4          0                    38               0   \n",
       "7             13          0                    37               2   \n",
       "8              7          0                    38               0   \n",
       "9              7          0                    38               1   \n",
       "\n",
       "   Seconds of Use  Frequency of use  Frequency of SMS  \\\n",
       "0            4370                71                 5   \n",
       "1             318                 5                 7   \n",
       "2            2453                60               359   \n",
       "3            4198                66                 1   \n",
       "4            2393                58                 2   \n",
       "5            3775                82                32   \n",
       "6            2360                39               285   \n",
       "7            9115               121               144   \n",
       "8           13773               169                 0   \n",
       "9            4515                83                 2   \n",
       "\n",
       "   Distinct Called Numbers  Age Group  Tariff Plan  Status  Customer Value  \\\n",
       "0                       17          3            1       1         197.640   \n",
       "1                        4          2            1       2          46.035   \n",
       "2                       24          3            1       1        1536.520   \n",
       "3                       35          1            1       1         240.020   \n",
       "4                       33          1            1       1         145.805   \n",
       "5                       28          3            1       1         282.280   \n",
       "6                       18          3            1       1        1235.960   \n",
       "7                       43          3            1       1         945.440   \n",
       "8                       44          3            1       1         557.680   \n",
       "9                       25          3            1       1         191.920   \n",
       "\n",
       "   Churn  \n",
       "0      0  \n",
       "1      0  \n",
       "2      0  \n",
       "3      0  \n",
       "4      0  \n",
       "5      0  \n",
       "6      0  \n",
       "7      0  \n",
       "8      0  \n",
       "9      0  "
      ]
     },
     "execution_count": 2,
     "metadata": {},
     "output_type": "execute_result"
    }
   ],
   "source": [
    "import pandas as pd\n",
    "\n",
    "data = pd.read_csv(\"customer_churn.csv\")\n",
    "data.head(10)"
   ]
  },
  {
   "cell_type": "code",
   "execution_count": null,
   "id": "t6NYH3xAOaIi",
   "metadata": {
    "colab": {
     "base_uri": "https://localhost:8080/"
    },
    "id": "t6NYH3xAOaIi",
    "outputId": "b90e314a-e11c-486f-e0e4-fd342546762f"
   },
   "outputs": [
    {
     "name": "stdout",
     "output_type": "stream",
     "text": [
      "Mounted at /content/drive\n"
     ]
    }
   ],
   "source": [
    "from google.colab import drive\n",
    "drive.mount('/content/drive')"
   ]
  },
  {
   "cell_type": "code",
   "execution_count": null,
   "id": "8edad4ce-4278-401b-875b-daa886dec289",
   "metadata": {
    "colab": {
     "base_uri": "https://localhost:8080/"
    },
    "id": "8edad4ce-4278-401b-875b-daa886dec289",
    "outputId": "2807bbd5-6a7f-4c5c-dff9-1fd360aadcda"
   },
   "outputs": [
    {
     "name": "stdout",
     "output_type": "stream",
     "text": [
      "<class 'pandas.core.frame.DataFrame'>\n",
      "RangeIndex: 3150 entries, 0 to 3149\n",
      "Data columns (total 13 columns):\n",
      " #   Column                   Non-Null Count  Dtype  \n",
      "---  ------                   --------------  -----  \n",
      " 0   Call  Failure            3150 non-null   int64  \n",
      " 1   Complains                3150 non-null   int64  \n",
      " 2   Subscription  Length     3150 non-null   int64  \n",
      " 3   Charge  Amount           3150 non-null   int64  \n",
      " 4   Seconds of Use           3150 non-null   int64  \n",
      " 5   Frequency of use         3150 non-null   int64  \n",
      " 6   Frequency of SMS         3150 non-null   int64  \n",
      " 7   Distinct Called Numbers  3150 non-null   int64  \n",
      " 8   Age Group                3150 non-null   int64  \n",
      " 9   Tariff Plan              3150 non-null   int64  \n",
      " 10  Status                   3150 non-null   int64  \n",
      " 11  Customer Value           3150 non-null   float64\n",
      " 12  Churn                    3150 non-null   int64  \n",
      "dtypes: float64(1), int64(12)\n",
      "memory usage: 320.0 KB\n"
     ]
    }
   ],
   "source": [
    "data.info()"
   ]
  },
  {
   "cell_type": "code",
   "execution_count": null,
   "id": "002f04fb-4105-450a-8bf4-4b044369a449",
   "metadata": {
    "colab": {
     "base_uri": "https://localhost:8080/"
    },
    "id": "002f04fb-4105-450a-8bf4-4b044369a449",
    "outputId": "9960af9a-b4b6-491d-a14d-235181e0030c"
   },
   "outputs": [
    {
     "data": {
      "text/plain": [
       "Call  Failure              0\n",
       "Complains                  0\n",
       "Subscription  Length       0\n",
       "Charge  Amount             0\n",
       "Seconds of Use             0\n",
       "Frequency of use           0\n",
       "Frequency of SMS           0\n",
       "Distinct Called Numbers    0\n",
       "Age Group                  0\n",
       "Tariff Plan                0\n",
       "Status                     0\n",
       "Customer Value             0\n",
       "Churn                      0\n",
       "dtype: int64"
      ]
     },
     "execution_count": 4,
     "metadata": {},
     "output_type": "execute_result"
    }
   ],
   "source": [
    "## check missing values\n",
    "pd.isna(data).sum()"
   ]
  },
  {
   "cell_type": "code",
   "execution_count": null,
   "id": "b01b3a26-de8e-498d-8aba-4e527aa61976",
   "metadata": {
    "colab": {
     "base_uri": "https://localhost:8080/",
     "height": 335
    },
    "id": "b01b3a26-de8e-498d-8aba-4e527aa61976",
    "outputId": "ed1dea87-6265-4f26-9db2-c215fdf49789"
   },
   "outputs": [
    {
     "data": {
      "text/html": [
       "\n",
       "  <div id=\"df-6a18316c-b625-4a0a-a5b6-75247b30b987\" class=\"colab-df-container\">\n",
       "    <div>\n",
       "<style scoped>\n",
       "    .dataframe tbody tr th:only-of-type {\n",
       "        vertical-align: middle;\n",
       "    }\n",
       "\n",
       "    .dataframe tbody tr th {\n",
       "        vertical-align: top;\n",
       "    }\n",
       "\n",
       "    .dataframe thead th {\n",
       "        text-align: right;\n",
       "    }\n",
       "</style>\n",
       "<table border=\"1\" class=\"dataframe\">\n",
       "  <thead>\n",
       "    <tr style=\"text-align: right;\">\n",
       "      <th></th>\n",
       "      <th>Call  Failure</th>\n",
       "      <th>Complains</th>\n",
       "      <th>Subscription  Length</th>\n",
       "      <th>Charge  Amount</th>\n",
       "      <th>Seconds of Use</th>\n",
       "      <th>Frequency of use</th>\n",
       "      <th>Frequency of SMS</th>\n",
       "      <th>Distinct Called Numbers</th>\n",
       "      <th>Age Group</th>\n",
       "      <th>Tariff Plan</th>\n",
       "      <th>Status</th>\n",
       "      <th>Customer Value</th>\n",
       "      <th>Churn</th>\n",
       "    </tr>\n",
       "  </thead>\n",
       "  <tbody>\n",
       "    <tr>\n",
       "      <th>count</th>\n",
       "      <td>3150.000000</td>\n",
       "      <td>3150.000000</td>\n",
       "      <td>3150.000000</td>\n",
       "      <td>3150.000000</td>\n",
       "      <td>3150.000000</td>\n",
       "      <td>3150.000000</td>\n",
       "      <td>3150.000000</td>\n",
       "      <td>3150.000000</td>\n",
       "      <td>3150.000000</td>\n",
       "      <td>3150.000000</td>\n",
       "      <td>3150.000000</td>\n",
       "      <td>3150.000000</td>\n",
       "      <td>3150.000000</td>\n",
       "    </tr>\n",
       "    <tr>\n",
       "      <th>mean</th>\n",
       "      <td>7.627937</td>\n",
       "      <td>0.076508</td>\n",
       "      <td>32.541905</td>\n",
       "      <td>0.942857</td>\n",
       "      <td>4472.459683</td>\n",
       "      <td>69.460635</td>\n",
       "      <td>73.174921</td>\n",
       "      <td>23.509841</td>\n",
       "      <td>2.826032</td>\n",
       "      <td>1.077778</td>\n",
       "      <td>1.248254</td>\n",
       "      <td>470.972916</td>\n",
       "      <td>0.157143</td>\n",
       "    </tr>\n",
       "    <tr>\n",
       "      <th>std</th>\n",
       "      <td>7.263886</td>\n",
       "      <td>0.265851</td>\n",
       "      <td>8.573482</td>\n",
       "      <td>1.521072</td>\n",
       "      <td>4197.908687</td>\n",
       "      <td>57.413308</td>\n",
       "      <td>112.237560</td>\n",
       "      <td>17.217337</td>\n",
       "      <td>0.892555</td>\n",
       "      <td>0.267864</td>\n",
       "      <td>0.432069</td>\n",
       "      <td>517.015433</td>\n",
       "      <td>0.363993</td>\n",
       "    </tr>\n",
       "    <tr>\n",
       "      <th>min</th>\n",
       "      <td>0.000000</td>\n",
       "      <td>0.000000</td>\n",
       "      <td>3.000000</td>\n",
       "      <td>0.000000</td>\n",
       "      <td>0.000000</td>\n",
       "      <td>0.000000</td>\n",
       "      <td>0.000000</td>\n",
       "      <td>0.000000</td>\n",
       "      <td>1.000000</td>\n",
       "      <td>1.000000</td>\n",
       "      <td>1.000000</td>\n",
       "      <td>0.000000</td>\n",
       "      <td>0.000000</td>\n",
       "    </tr>\n",
       "    <tr>\n",
       "      <th>25%</th>\n",
       "      <td>1.000000</td>\n",
       "      <td>0.000000</td>\n",
       "      <td>30.000000</td>\n",
       "      <td>0.000000</td>\n",
       "      <td>1391.250000</td>\n",
       "      <td>27.000000</td>\n",
       "      <td>6.000000</td>\n",
       "      <td>10.000000</td>\n",
       "      <td>2.000000</td>\n",
       "      <td>1.000000</td>\n",
       "      <td>1.000000</td>\n",
       "      <td>113.801250</td>\n",
       "      <td>0.000000</td>\n",
       "    </tr>\n",
       "    <tr>\n",
       "      <th>50%</th>\n",
       "      <td>6.000000</td>\n",
       "      <td>0.000000</td>\n",
       "      <td>35.000000</td>\n",
       "      <td>0.000000</td>\n",
       "      <td>2990.000000</td>\n",
       "      <td>54.000000</td>\n",
       "      <td>21.000000</td>\n",
       "      <td>21.000000</td>\n",
       "      <td>3.000000</td>\n",
       "      <td>1.000000</td>\n",
       "      <td>1.000000</td>\n",
       "      <td>228.480000</td>\n",
       "      <td>0.000000</td>\n",
       "    </tr>\n",
       "    <tr>\n",
       "      <th>75%</th>\n",
       "      <td>12.000000</td>\n",
       "      <td>0.000000</td>\n",
       "      <td>38.000000</td>\n",
       "      <td>1.000000</td>\n",
       "      <td>6478.250000</td>\n",
       "      <td>95.000000</td>\n",
       "      <td>87.000000</td>\n",
       "      <td>34.000000</td>\n",
       "      <td>3.000000</td>\n",
       "      <td>1.000000</td>\n",
       "      <td>1.000000</td>\n",
       "      <td>788.388750</td>\n",
       "      <td>0.000000</td>\n",
       "    </tr>\n",
       "    <tr>\n",
       "      <th>max</th>\n",
       "      <td>36.000000</td>\n",
       "      <td>1.000000</td>\n",
       "      <td>47.000000</td>\n",
       "      <td>10.000000</td>\n",
       "      <td>17090.000000</td>\n",
       "      <td>255.000000</td>\n",
       "      <td>522.000000</td>\n",
       "      <td>97.000000</td>\n",
       "      <td>5.000000</td>\n",
       "      <td>2.000000</td>\n",
       "      <td>2.000000</td>\n",
       "      <td>2165.280000</td>\n",
       "      <td>1.000000</td>\n",
       "    </tr>\n",
       "  </tbody>\n",
       "</table>\n",
       "</div>\n",
       "    <div class=\"colab-df-buttons\">\n",
       "\n",
       "  <div class=\"colab-df-container\">\n",
       "    <button class=\"colab-df-convert\" onclick=\"convertToInteractive('df-6a18316c-b625-4a0a-a5b6-75247b30b987')\"\n",
       "            title=\"Convert this dataframe to an interactive table.\"\n",
       "            style=\"display:none;\">\n",
       "\n",
       "  <svg xmlns=\"http://www.w3.org/2000/svg\" height=\"24px\" viewBox=\"0 -960 960 960\">\n",
       "    <path d=\"M120-120v-720h720v720H120Zm60-500h600v-160H180v160Zm220 220h160v-160H400v160Zm0 220h160v-160H400v160ZM180-400h160v-160H180v160Zm440 0h160v-160H620v160ZM180-180h160v-160H180v160Zm440 0h160v-160H620v160Z\"/>\n",
       "  </svg>\n",
       "    </button>\n",
       "\n",
       "  <style>\n",
       "    .colab-df-container {\n",
       "      display:flex;\n",
       "      gap: 12px;\n",
       "    }\n",
       "\n",
       "    .colab-df-convert {\n",
       "      background-color: #E8F0FE;\n",
       "      border: none;\n",
       "      border-radius: 50%;\n",
       "      cursor: pointer;\n",
       "      display: none;\n",
       "      fill: #1967D2;\n",
       "      height: 32px;\n",
       "      padding: 0 0 0 0;\n",
       "      width: 32px;\n",
       "    }\n",
       "\n",
       "    .colab-df-convert:hover {\n",
       "      background-color: #E2EBFA;\n",
       "      box-shadow: 0px 1px 2px rgba(60, 64, 67, 0.3), 0px 1px 3px 1px rgba(60, 64, 67, 0.15);\n",
       "      fill: #174EA6;\n",
       "    }\n",
       "\n",
       "    .colab-df-buttons div {\n",
       "      margin-bottom: 4px;\n",
       "    }\n",
       "\n",
       "    [theme=dark] .colab-df-convert {\n",
       "      background-color: #3B4455;\n",
       "      fill: #D2E3FC;\n",
       "    }\n",
       "\n",
       "    [theme=dark] .colab-df-convert:hover {\n",
       "      background-color: #434B5C;\n",
       "      box-shadow: 0px 1px 3px 1px rgba(0, 0, 0, 0.15);\n",
       "      filter: drop-shadow(0px 1px 2px rgba(0, 0, 0, 0.3));\n",
       "      fill: #FFFFFF;\n",
       "    }\n",
       "  </style>\n",
       "\n",
       "    <script>\n",
       "      const buttonEl =\n",
       "        document.querySelector('#df-6a18316c-b625-4a0a-a5b6-75247b30b987 button.colab-df-convert');\n",
       "      buttonEl.style.display =\n",
       "        google.colab.kernel.accessAllowed ? 'block' : 'none';\n",
       "\n",
       "      async function convertToInteractive(key) {\n",
       "        const element = document.querySelector('#df-6a18316c-b625-4a0a-a5b6-75247b30b987');\n",
       "        const dataTable =\n",
       "          await google.colab.kernel.invokeFunction('convertToInteractive',\n",
       "                                                    [key], {});\n",
       "        if (!dataTable) return;\n",
       "\n",
       "        const docLinkHtml = 'Like what you see? Visit the ' +\n",
       "          '<a target=\"_blank\" href=https://colab.research.google.com/notebooks/data_table.ipynb>data table notebook</a>'\n",
       "          + ' to learn more about interactive tables.';\n",
       "        element.innerHTML = '';\n",
       "        dataTable['output_type'] = 'display_data';\n",
       "        await google.colab.output.renderOutput(dataTable, element);\n",
       "        const docLink = document.createElement('div');\n",
       "        docLink.innerHTML = docLinkHtml;\n",
       "        element.appendChild(docLink);\n",
       "      }\n",
       "    </script>\n",
       "  </div>\n",
       "\n",
       "\n",
       "<div id=\"df-39813a98-adb6-4c5f-80d9-18be25872141\">\n",
       "  <button class=\"colab-df-quickchart\" onclick=\"quickchart('df-39813a98-adb6-4c5f-80d9-18be25872141')\"\n",
       "            title=\"Suggest charts\"\n",
       "            style=\"display:none;\">\n",
       "\n",
       "<svg xmlns=\"http://www.w3.org/2000/svg\" height=\"24px\"viewBox=\"0 0 24 24\"\n",
       "     width=\"24px\">\n",
       "    <g>\n",
       "        <path d=\"M19 3H5c-1.1 0-2 .9-2 2v14c0 1.1.9 2 2 2h14c1.1 0 2-.9 2-2V5c0-1.1-.9-2-2-2zM9 17H7v-7h2v7zm4 0h-2V7h2v10zm4 0h-2v-4h2v4z\"/>\n",
       "    </g>\n",
       "</svg>\n",
       "  </button>\n",
       "\n",
       "<style>\n",
       "  .colab-df-quickchart {\n",
       "      --bg-color: #E8F0FE;\n",
       "      --fill-color: #1967D2;\n",
       "      --hover-bg-color: #E2EBFA;\n",
       "      --hover-fill-color: #174EA6;\n",
       "      --disabled-fill-color: #AAA;\n",
       "      --disabled-bg-color: #DDD;\n",
       "  }\n",
       "\n",
       "  [theme=dark] .colab-df-quickchart {\n",
       "      --bg-color: #3B4455;\n",
       "      --fill-color: #D2E3FC;\n",
       "      --hover-bg-color: #434B5C;\n",
       "      --hover-fill-color: #FFFFFF;\n",
       "      --disabled-bg-color: #3B4455;\n",
       "      --disabled-fill-color: #666;\n",
       "  }\n",
       "\n",
       "  .colab-df-quickchart {\n",
       "    background-color: var(--bg-color);\n",
       "    border: none;\n",
       "    border-radius: 50%;\n",
       "    cursor: pointer;\n",
       "    display: none;\n",
       "    fill: var(--fill-color);\n",
       "    height: 32px;\n",
       "    padding: 0;\n",
       "    width: 32px;\n",
       "  }\n",
       "\n",
       "  .colab-df-quickchart:hover {\n",
       "    background-color: var(--hover-bg-color);\n",
       "    box-shadow: 0 1px 2px rgba(60, 64, 67, 0.3), 0 1px 3px 1px rgba(60, 64, 67, 0.15);\n",
       "    fill: var(--button-hover-fill-color);\n",
       "  }\n",
       "\n",
       "  .colab-df-quickchart-complete:disabled,\n",
       "  .colab-df-quickchart-complete:disabled:hover {\n",
       "    background-color: var(--disabled-bg-color);\n",
       "    fill: var(--disabled-fill-color);\n",
       "    box-shadow: none;\n",
       "  }\n",
       "\n",
       "  .colab-df-spinner {\n",
       "    border: 2px solid var(--fill-color);\n",
       "    border-color: transparent;\n",
       "    border-bottom-color: var(--fill-color);\n",
       "    animation:\n",
       "      spin 1s steps(1) infinite;\n",
       "  }\n",
       "\n",
       "  @keyframes spin {\n",
       "    0% {\n",
       "      border-color: transparent;\n",
       "      border-bottom-color: var(--fill-color);\n",
       "      border-left-color: var(--fill-color);\n",
       "    }\n",
       "    20% {\n",
       "      border-color: transparent;\n",
       "      border-left-color: var(--fill-color);\n",
       "      border-top-color: var(--fill-color);\n",
       "    }\n",
       "    30% {\n",
       "      border-color: transparent;\n",
       "      border-left-color: var(--fill-color);\n",
       "      border-top-color: var(--fill-color);\n",
       "      border-right-color: var(--fill-color);\n",
       "    }\n",
       "    40% {\n",
       "      border-color: transparent;\n",
       "      border-right-color: var(--fill-color);\n",
       "      border-top-color: var(--fill-color);\n",
       "    }\n",
       "    60% {\n",
       "      border-color: transparent;\n",
       "      border-right-color: var(--fill-color);\n",
       "    }\n",
       "    80% {\n",
       "      border-color: transparent;\n",
       "      border-right-color: var(--fill-color);\n",
       "      border-bottom-color: var(--fill-color);\n",
       "    }\n",
       "    90% {\n",
       "      border-color: transparent;\n",
       "      border-bottom-color: var(--fill-color);\n",
       "    }\n",
       "  }\n",
       "</style>\n",
       "\n",
       "  <script>\n",
       "    async function quickchart(key) {\n",
       "      const quickchartButtonEl =\n",
       "        document.querySelector('#' + key + ' button');\n",
       "      quickchartButtonEl.disabled = true;  // To prevent multiple clicks.\n",
       "      quickchartButtonEl.classList.add('colab-df-spinner');\n",
       "      try {\n",
       "        const charts = await google.colab.kernel.invokeFunction(\n",
       "            'suggestCharts', [key], {});\n",
       "      } catch (error) {\n",
       "        console.error('Error during call to suggestCharts:', error);\n",
       "      }\n",
       "      quickchartButtonEl.classList.remove('colab-df-spinner');\n",
       "      quickchartButtonEl.classList.add('colab-df-quickchart-complete');\n",
       "    }\n",
       "    (() => {\n",
       "      let quickchartButtonEl =\n",
       "        document.querySelector('#df-39813a98-adb6-4c5f-80d9-18be25872141 button');\n",
       "      quickchartButtonEl.style.display =\n",
       "        google.colab.kernel.accessAllowed ? 'block' : 'none';\n",
       "    })();\n",
       "  </script>\n",
       "</div>\n",
       "\n",
       "    </div>\n",
       "  </div>\n"
      ],
      "text/plain": [
       "       Call  Failure    Complains  Subscription  Length  Charge  Amount  \\\n",
       "count    3150.000000  3150.000000           3150.000000     3150.000000   \n",
       "mean        7.627937     0.076508             32.541905        0.942857   \n",
       "std         7.263886     0.265851              8.573482        1.521072   \n",
       "min         0.000000     0.000000              3.000000        0.000000   \n",
       "25%         1.000000     0.000000             30.000000        0.000000   \n",
       "50%         6.000000     0.000000             35.000000        0.000000   \n",
       "75%        12.000000     0.000000             38.000000        1.000000   \n",
       "max        36.000000     1.000000             47.000000       10.000000   \n",
       "\n",
       "       Seconds of Use  Frequency of use  Frequency of SMS  \\\n",
       "count     3150.000000       3150.000000       3150.000000   \n",
       "mean      4472.459683         69.460635         73.174921   \n",
       "std       4197.908687         57.413308        112.237560   \n",
       "min          0.000000          0.000000          0.000000   \n",
       "25%       1391.250000         27.000000          6.000000   \n",
       "50%       2990.000000         54.000000         21.000000   \n",
       "75%       6478.250000         95.000000         87.000000   \n",
       "max      17090.000000        255.000000        522.000000   \n",
       "\n",
       "       Distinct Called Numbers    Age Group  Tariff Plan       Status  \\\n",
       "count              3150.000000  3150.000000  3150.000000  3150.000000   \n",
       "mean                 23.509841     2.826032     1.077778     1.248254   \n",
       "std                  17.217337     0.892555     0.267864     0.432069   \n",
       "min                   0.000000     1.000000     1.000000     1.000000   \n",
       "25%                  10.000000     2.000000     1.000000     1.000000   \n",
       "50%                  21.000000     3.000000     1.000000     1.000000   \n",
       "75%                  34.000000     3.000000     1.000000     1.000000   \n",
       "max                  97.000000     5.000000     2.000000     2.000000   \n",
       "\n",
       "       Customer Value        Churn  \n",
       "count     3150.000000  3150.000000  \n",
       "mean       470.972916     0.157143  \n",
       "std        517.015433     0.363993  \n",
       "min          0.000000     0.000000  \n",
       "25%        113.801250     0.000000  \n",
       "50%        228.480000     0.000000  \n",
       "75%        788.388750     0.000000  \n",
       "max       2165.280000     1.000000  "
      ]
     },
     "execution_count": 8,
     "metadata": {},
     "output_type": "execute_result"
    }
   ],
   "source": [
    "## check variable description\n",
    "data.describe()"
   ]
  },
  {
   "cell_type": "code",
   "execution_count": null,
   "id": "4f506e45-cda6-4bf0-ab1d-0a1754229063",
   "metadata": {
    "colab": {
     "base_uri": "https://localhost:8080/",
     "height": 984
    },
    "id": "4f506e45-cda6-4bf0-ab1d-0a1754229063",
    "outputId": "704ca82d-84ba-4216-d102-b334fe9b8d56"
   },
   "outputs": [
    {
     "data": {
      "image/png": "[encoded data removed]",
      "text/plain": [
       "<Figure size 1000x1000 with 1 Axes>"
      ]
     },
     "metadata": {},
     "output_type": "display_data"
    }
   ],
   "source": [
    "## check variable correlation\n",
    "corr_table = data.corr().sort_values(\"Churn\", ascending=False)\n",
    "plt.figure(figsize=(10,10))\n",
    "ax = sns.heatmap(corr_table, cmap=\"vlag\", annot=True, fmt='.2f', square=True, cbar=False)\n"
   ]
  },
  {
   "cell_type": "markdown",
   "id": "DLeHvqHHs7Bx",
   "metadata": {
    "id": "DLeHvqHHs7Bx"
   },
   "source": [
    "High number of complaints, leading to the number of churns."
   ]
  },
  {
   "cell_type": "code",
   "execution_count": null,
   "id": "hrMTDSoCwA98",
   "metadata": {
    "colab": {
     "base_uri": "https://localhost:8080/",
     "height": 617
    },
    "id": "hrMTDSoCwA98",
    "outputId": "7de83c1c-fa5b-4a34-c786-d9c3b086210b"
   },
   "outputs": [
    {
     "data": {
      "text/plain": [
       "0    2655\n",
       "1     495\n",
       "Name: Churn, dtype: int64"
      ]
     },
     "execution_count": 10,
     "metadata": {},
     "output_type": "execute_result"
    },
    {
     "data": {
      "image/png": "[encoded data removed]",
      "text/plain": [
       "<Figure size 800x600 with 1 Axes>"
      ]
     },
     "metadata": {},
     "output_type": "display_data"
    }
   ],
   "source": [
    "## How the Y variable (\"Churn\") was distribute? I use the bar chart for this distribution.\n",
    "\n",
    "import matplotlib.pyplot as plt\n",
    "\n",
    "import pandas as pd\n",
    "\n",
    "#1: Count the number of churned customers (1) and number of non-churned customers (2)\n",
    "\n",
    "churn_counts = data['Churn'].value_counts()\n",
    "\n",
    "#2: Create a bar plot\n",
    "\n",
    "plt. figure(figsize=(8, 6))\n",
    "\n",
    "# Define custom colors as hex codes\n",
    "custom_colors = ['#39ace7', '#6f9cde']\n",
    "\n",
    "bars = plt. bar(churn_counts.index, churn_counts.values, color =custom_colors)\n",
    "plt. xlabel ('Churn')\n",
    "plt. ylabel ('Count')\n",
    "plt. title('Distribution of Churn Variable')\n",
    "plt.xticks (churn_counts.index, ['Non-Churn','Churn']) #Customize x-axis labels\n",
    "\n",
    "\n",
    "# Add labels with the count of churn distribution above the bars\n",
    "for bar in bars:\n",
    "    height = bar.get_height()\n",
    "    plt.annotate(f'{height}', xy=(bar.get_x() + bar.get_width() / 2, height), xytext=(0, 3),\n",
    "                 textcoords='offset points', ha='center', va='bottom')\n",
    "\n",
    "churn_counts"
   ]
  },
  {
   "cell_type": "markdown",
   "id": "omlprjbTq0ev",
   "metadata": {
    "id": "omlprjbTq0ev"
   },
   "source": [
    "\n",
    "The predictive model is imbalanced, with as average of 83% customers are labeled as non-churn, which leads to the inaccurate prediction."
   ]
  },
  {
   "cell_type": "code",
   "execution_count": null,
   "id": "cb78acf5-c6a2-42b4-bb82-f16b3a6d4c51",
   "metadata": {
    "colab": {
     "base_uri": "https://localhost:8080/"
    },
    "id": "cb78acf5-c6a2-42b4-bb82-f16b3a6d4c51",
    "outputId": "88f7da8e-3108-4bec-a55f-7e3f55999142"
   },
   "outputs": [
    {
     "data": {
      "text/plain": [
       "Index(['Call  Failure', 'Complains', 'Subscription  Length', 'Charge  Amount',\n",
       "       'Seconds of Use', 'Frequency of use', 'Frequency of SMS',\n",
       "       'Distinct Called Numbers', 'Age Group', 'Tariff Plan', 'Status',\n",
       "       'Customer Value', 'Churn'],\n",
       "      dtype='object')"
      ]
     },
     "execution_count": 13,
     "metadata": {},
     "output_type": "execute_result"
    }
   ],
   "source": [
    "data.columns"
   ]
  },
  {
   "cell_type": "code",
   "execution_count": null,
   "id": "d4460b5a-168a-41a7-8e5b-5accc5217e3f",
   "metadata": {
    "id": "d4460b5a-168a-41a7-8e5b-5accc5217e3f"
   },
   "outputs": [],
   "source": [
    "## let's randomly select 200 observations as next year's customer data for later use (to demostrate how we may use the predictive model)\n",
    "\n",
    "next_year_index = np.random.choice(data.index, size=200, replace=False)   # randomly sample 200 obs from index without replacement\n",
    "next_year = data.loc[next_year_index]"
   ]
  },
  {
   "cell_type": "markdown",
   "id": "WMoz_UXijeGI",
   "metadata": {
    "id": "WMoz_UXijeGI"
   },
   "source": [
    "**replace=False:** ensures that each selected index is unique and not replaced, meaning that once an index is chosen, it cannot be chosen again in the same sample.\n"
   ]
  },
  {
   "cell_type": "code",
   "execution_count": null,
   "id": "41908533-1067-4314-8cac-7e8ac73e4a2f",
   "metadata": {
    "id": "41908533-1067-4314-8cac-7e8ac73e4a2f"
   },
   "outputs": [],
   "source": [
    "## the data used for prediction\n",
    "\n",
    "current_year_index = np.delete(data.index.values, next_year_index)\n",
    "data2 = data.loc[current_year_index]"
   ]
  },
  {
   "cell_type": "code",
   "execution_count": null,
   "id": "612e1c49-18d2-4bb6-bf74-2585d8901bc0",
   "metadata": {
    "colab": {
     "base_uri": "https://localhost:8080/"
    },
    "id": "612e1c49-18d2-4bb6-bf74-2585d8901bc0",
    "outputId": "f8a35f66-1922-48a6-f1ad-e5ca4cd9dee5"
   },
   "outputs": [
    {
     "data": {
      "text/plain": [
       "(3150, 2950, 200)"
      ]
     },
     "execution_count": 18,
     "metadata": {},
     "output_type": "execute_result"
    }
   ],
   "source": [
    "len(data), len(data2), len(next_year)"
   ]
  },
  {
   "cell_type": "markdown",
   "id": "d63f4891-0ce3-45ea-9687-21512fb8b762",
   "metadata": {
    "id": "d63f4891-0ce3-45ea-9687-21512fb8b762"
   },
   "source": [
    "## Data Prepare"
   ]
  },
  {
   "cell_type": "code",
   "execution_count": null,
   "id": "e9627904-e51e-4328-9f28-ab091a8b39e8",
   "metadata": {
    "id": "e9627904-e51e-4328-9f28-ab091a8b39e8"
   },
   "outputs": [],
   "source": [
    "features = ['Call  Failure', 'Complains', 'Subscription  Length', 'Charge  Amount',\n",
    "            'Seconds of Use', 'Frequency of use', 'Frequency of SMS',\n",
    "            'Distinct Called Numbers', 'Age Group', 'Tariff Plan', 'Status', 'Customer Value']   # features / independent variables\n",
    "target = ['Churn']     # target / dependent variable\n",
    "\n",
    "# extract corresponding columns\n",
    "X = data2[features].values\n",
    "Y = data2[target].values.ravel()"
   ]
  },
  {
   "cell_type": "code",
   "execution_count": null,
   "id": "bce1f71e-e82d-4de7-a050-a6b3f9cfabab",
   "metadata": {
    "id": "bce1f71e-e82d-4de7-a050-a6b3f9cfabab"
   },
   "outputs": [],
   "source": [
    "from sklearn.preprocessing import StandardScaler\n",
    "X = StandardScaler().fit_transform(X)"
   ]
  },
  {
   "cell_type": "markdown",
   "id": "1688445f-2fe1-434a-a6e0-c8b95f88bd40",
   "metadata": {
    "id": "1688445f-2fe1-434a-a6e0-c8b95f88bd40"
   },
   "source": [
    "- We could use the `train_test_split` (code as follow) process to properly evaluate our model, but the model's performance may vary based on how the dataset was \"randomly\" splited. So, here, we will use the `K-folder cross validation process` instead.  \n",
    "\n",
    "```python\n",
    "from sklearn.model_selection import train_test_split\n",
    "X_train, X_test, Y_train, Y_test = train_test_split(X, Y, test_size=0.2)\n",
    "```"
   ]
  },
  {
   "cell_type": "markdown",
   "id": "0c5fb6ef-982c-47d7-9ae3-b17564de91d3",
   "metadata": {
    "id": "0c5fb6ef-982c-47d7-9ae3-b17564de91d3"
   },
   "source": [
    "## Make Predictions"
   ]
  },
  {
   "cell_type": "markdown",
   "id": "b915c178-113f-4f9b-8776-2b6892226a70",
   "metadata": {
    "id": "b915c178-113f-4f9b-8776-2b6892226a70"
   },
   "source": [
    "### KNN"
   ]
  },
  {
   "cell_type": "code",
   "execution_count": null,
   "id": "1dfe5233-c50a-4660-9a33-b7ac43b3e87c",
   "metadata": {
    "colab": {
     "base_uri": "https://localhost:8080/"
    },
    "id": "1dfe5233-c50a-4660-9a33-b7ac43b3e87c",
    "outputId": "1957778c-a116-422a-c7a8-0dc0070e4a40"
   },
   "outputs": [
    {
     "name": "stdout",
     "output_type": "stream",
     "text": [
      "Average Fitting Time: 0.004358863830566407\n",
      "Average Accuracy: 0.948135593220339\n"
     ]
    }
   ],
   "source": [
    "from sklearn.model_selection import cross_validate     # import cross_validation function from sklearn\n",
    "from sklearn.neighbors import KNeighborsClassifier    # import KNN classifer\n",
    "\n",
    "knn = KNeighborsClassifier()\n",
    "\n",
    "## fit with 5 folder cross validation\n",
    "\n",
    "scores = cross_validate(estimator=knn, X=X, y=Y, cv=5, scoring=\"accuracy\")\n",
    "\n",
    "print(\"Average Fitting Time:\", scores['fit_time'].mean())\n",
    "print(\"Average Accuracy:\", scores['test_score'].mean())"
   ]
  },
  {
   "cell_type": "markdown",
   "id": "d6cc439a-0239-443f-8e7c-0e344564065b",
   "metadata": {
    "id": "d6cc439a-0239-443f-8e7c-0e344564065b"
   },
   "source": [
    "### Logistic Regression"
   ]
  },
  {
   "cell_type": "code",
   "execution_count": null,
   "id": "134767f9-5e85-46e5-a2e4-d3579379bc82",
   "metadata": {
    "colab": {
     "base_uri": "https://localhost:8080/"
    },
    "id": "134767f9-5e85-46e5-a2e4-d3579379bc82",
    "outputId": "70439531-60d7-497f-e9b7-f84f7ef1a2c4"
   },
   "outputs": [
    {
     "name": "stdout",
     "output_type": "stream",
     "text": [
      "Average Fitting Time: 0.020760774612426758\n",
      "Average Accuracy: 0.894915254237288\n"
     ]
    }
   ],
   "source": [
    "from sklearn.linear_model import LogisticRegression\n",
    "\n",
    "lr = LogisticRegression()\n",
    "\n",
    "scores = cross_validate(estimator=lr, X=X, y=Y, cv=5, scoring=\"accuracy\")\n",
    "\n",
    "print(\"Average Fitting Time:\", scores['fit_time'].mean())\n",
    "print(\"Average Accuracy:\", scores['test_score'].mean())"
   ]
  },
  {
   "cell_type": "markdown",
   "id": "588b6187-5073-486a-8736-7cb12e46e0be",
   "metadata": {
    "id": "588b6187-5073-486a-8736-7cb12e46e0be"
   },
   "source": [
    "### SVM"
   ]
  },
  {
   "cell_type": "code",
   "execution_count": null,
   "id": "58076741-7cd5-4c2f-8383-6a7c6acb0813",
   "metadata": {
    "colab": {
     "base_uri": "https://localhost:8080/"
    },
    "id": "58076741-7cd5-4c2f-8383-6a7c6acb0813",
    "outputId": "48f1ebf0-af80-48b1-cbea-6fb685af1e7b"
   },
   "outputs": [
    {
     "name": "stdout",
     "output_type": "stream",
     "text": [
      "Average Fitting Time: 0.06866111755371093\n",
      "Average Accuracy: 0.9220338983050848\n"
     ]
    }
   ],
   "source": [
    "from sklearn.svm import SVC\n",
    "\n",
    "svm = SVC()\n",
    "\n",
    "scores = cross_validate(estimator=svm, X=X, y=Y, cv=5, scoring=\"accuracy\")\n",
    "\n",
    "print(\"Average Fitting Time:\", scores['fit_time'].mean())\n",
    "print(\"Average Accuracy:\", scores['test_score'].mean())"
   ]
  },
  {
   "cell_type": "markdown",
   "id": "aab6eb49",
   "metadata": {
    "id": "aab6eb49"
   },
   "source": [
    "### Naive Bayes"
   ]
  },
  {
   "cell_type": "code",
   "execution_count": null,
   "id": "64b9e0cb",
   "metadata": {
    "colab": {
     "base_uri": "https://localhost:8080/"
    },
    "id": "64b9e0cb",
    "outputId": "a708e81a-80b2-46e2-e2b1-518f33b2b9f0"
   },
   "outputs": [
    {
     "name": "stdout",
     "output_type": "stream",
     "text": [
      "Average Fitting Time: 0.0017807483673095703\n",
      "Average Accuracy: 0.7254237288135593\n"
     ]
    }
   ],
   "source": [
    "from sklearn.naive_bayes import GaussianNB\n",
    "\n",
    "nb = GaussianNB()\n",
    "\n",
    "scores = cross_validate(estimator=nb, X=X, y=Y, cv=5, scoring=\"accuracy\")\n",
    "\n",
    "print(\"Average Fitting Time:\", scores['fit_time'].mean())\n",
    "print(\"Average Accuracy:\", scores['test_score'].mean())"
   ]
  },
  {
   "cell_type": "markdown",
   "id": "f7a9c6de",
   "metadata": {
    "id": "f7a9c6de"
   },
   "source": [
    "### Decision Tree"
   ]
  },
  {
   "cell_type": "code",
   "execution_count": null,
   "id": "1254eb29-7baa-4681-8951-31c325c55deb",
   "metadata": {
    "colab": {
     "base_uri": "https://localhost:8080/"
    },
    "id": "1254eb29-7baa-4681-8951-31c325c55deb",
    "outputId": "3f04794e-0693-41d0-acc0-371d6b8e3e94"
   },
   "outputs": [
    {
     "name": "stdout",
     "output_type": "stream",
     "text": [
      "Average Fitting Time: 0.020027351379394532\n",
      "Average Accuracy: 0.9400000000000001\n"
     ]
    }
   ],
   "source": [
    "from sklearn.tree import DecisionTreeClassifier\n",
    "from sklearn.model_selection import train_test_split\n",
    "from sklearn.metrics import accuracy_score, classification_report\n",
    "\n",
    "tree = DecisionTreeClassifier()\n",
    "\n",
    "scores = cross_validate (estimator=tree, X=X, y=Y, scoring = \"accuracy\")\n",
    "\n",
    "print(\"Average Fitting Time:\", scores['fit_time'].mean())\n",
    "print(\"Average Accuracy:\", scores['test_score'].mean())"
   ]
  },
  {
   "cell_type": "markdown",
   "id": "65c5f550-2b7b-4959-ab6c-b63d330d87e4",
   "metadata": {
    "id": "65c5f550-2b7b-4959-ab6c-b63d330d87e4"
   },
   "source": [
    "### Random Forest"
   ]
  },
  {
   "cell_type": "code",
   "execution_count": null,
   "id": "44985bcb-4bdd-45d6-bfa6-0d4860220b92",
   "metadata": {
    "colab": {
     "base_uri": "https://localhost:8080/"
    },
    "id": "44985bcb-4bdd-45d6-bfa6-0d4860220b92",
    "outputId": "754bb414-af2f-45d8-a6b1-41b1b04dca57"
   },
   "outputs": [
    {
     "name": "stdout",
     "output_type": "stream",
     "text": [
      "Average Fitting Time: 0.7274065494537354\n",
      "Average Accuracy: 0.9562711864406779\n"
     ]
    }
   ],
   "source": [
    "from sklearn.ensemble import RandomForestClassifier\n",
    "\n",
    "rf = RandomForestClassifier()\n",
    "\n",
    "scores = cross_validate (estimator=rf, X=X, y=Y, scoring = \"accuracy\")\n",
    "\n",
    "print(\"Average Fitting Time:\", scores['fit_time'].mean())\n",
    "print(\"Average Accuracy:\", scores['test_score'].mean())"
   ]
  },
  {
   "cell_type": "markdown",
   "id": "a7a38b00",
   "metadata": {
    "id": "a7a38b00"
   },
   "source": [
    "### Gradient Boost Classifier"
   ]
  },
  {
   "cell_type": "code",
   "execution_count": null,
   "id": "71c80ffb",
   "metadata": {
    "colab": {
     "base_uri": "https://localhost:8080/"
    },
    "id": "71c80ffb",
    "outputId": "f14b61c7-5fdc-40ed-b9d3-20cdcd5f9308"
   },
   "outputs": [
    {
     "name": "stdout",
     "output_type": "stream",
     "text": [
      "Average Fitting Time: 0.6920559406280518\n",
      "Average Accuracy: 0.9403389830508473\n"
     ]
    }
   ],
   "source": [
    "from sklearn.ensemble import GradientBoostingClassifier\n",
    "\n",
    "gb = GradientBoostingClassifier()\n",
    "\n",
    "scores = cross_validate(estimator=gb, X=X, y=Y, cv=5, scoring=\"accuracy\")\n",
    "\n",
    "print(\"Average Fitting Time:\", scores['fit_time'].mean())\n",
    "print(\"Average Accuracy:\", scores['test_score'].mean())"
   ]
  },
  {
   "cell_type": "markdown",
   "id": "fffbebaf-6d56-4723-852e-26b276acb130",
   "metadata": {
    "id": "fffbebaf-6d56-4723-852e-26b276acb130"
   },
   "source": [
    "## Model Selection"
   ]
  },
  {
   "cell_type": "markdown",
   "id": "d953c2cf-7ff1-4505-89da-3c1dc3e7ed94",
   "metadata": {
    "id": "d953c2cf-7ff1-4505-89da-3c1dc3e7ed94"
   },
   "source": [
    "We can write a loop to search for the best model for the problem."
   ]
  },
  {
   "cell_type": "code",
   "execution_count": null,
   "id": "ef3964d7-78c8-4b0d-9e8b-b9df28ad42d6",
   "metadata": {
    "id": "ef3964d7-78c8-4b0d-9e8b-b9df28ad42d6"
   },
   "outputs": [],
   "source": [
    "## candidate models\n",
    "knn = KNeighborsClassifier()\n",
    "lr = LogisticRegression()\n",
    "svm = SVC()\n",
    "nb = GaussianNB()\n",
    "tree = DecisionTreeClassifier()\n",
    "rf = RandomForestClassifier()\n",
    "gb = GradientBoostingClassifier()\n",
    "\n",
    "models = {\"KNN\": knn, \"LogisticRegression\": lr, \"SVM\": svm,\n",
    "          \"Naive Bayes\": nb, \"DecisionTree\": tree, \"RandomForest\": rf, \"GradientBoost\":gb}\n",
    "results = []\n",
    "\n",
    "for model_name, model in models.items():\n",
    "    default = {\"Model\":model_name, \"Fitting Time\": np.nan, \"Accuracy\": np.nan}\n",
    "    scores = cross_validate(estimator=model, X=X, y=Y, cv=5, scoring=\"accuracy\")\n",
    "    default['Fitting Time'] = scores['fit_time'].mean()\n",
    "    default['Accuracy'] = scores['test_score'].mean()\n",
    "    results.append(default)"
   ]
  },
  {
   "cell_type": "code",
   "execution_count": null,
   "id": "5bfea81a-1b63-4220-9eb9-13c2da274962",
   "metadata": {
    "colab": {
     "base_uri": "https://localhost:8080/",
     "height": 269
    },
    "id": "5bfea81a-1b63-4220-9eb9-13c2da274962",
    "outputId": "98fd0aab-f5fc-4119-93a1-e0b7fed58b38"
   },
   "outputs": [
    {
     "data": {
      "text/html": [
       "\n",
       "  <div id=\"df-1422b0c9-2e24-4c50-a425-c470beeb0972\" class=\"colab-df-container\">\n",
       "    <div>\n",
       "<style scoped>\n",
       "    .dataframe tbody tr th:only-of-type {\n",
       "        vertical-align: middle;\n",
       "    }\n",
       "\n",
       "    .dataframe tbody tr th {\n",
       "        vertical-align: top;\n",
       "    }\n",
       "\n",
       "    .dataframe thead th {\n",
       "        text-align: right;\n",
       "    }\n",
       "</style>\n",
       "<table border=\"1\" class=\"dataframe\">\n",
       "  <thead>\n",
       "    <tr style=\"text-align: right;\">\n",
       "      <th></th>\n",
       "      <th>Model</th>\n",
       "      <th>Fitting Time</th>\n",
       "      <th>Accuracy</th>\n",
       "    </tr>\n",
       "  </thead>\n",
       "  <tbody>\n",
       "    <tr>\n",
       "      <th>5</th>\n",
       "      <td>RandomForest</td>\n",
       "      <td>0.830042</td>\n",
       "      <td>0.953559</td>\n",
       "    </tr>\n",
       "    <tr>\n",
       "      <th>6</th>\n",
       "      <td>GradientBoost</td>\n",
       "      <td>1.218198</td>\n",
       "      <td>0.940339</td>\n",
       "    </tr>\n",
       "    <tr>\n",
       "      <th>4</th>\n",
       "      <td>DecisionTree</td>\n",
       "      <td>0.029545</td>\n",
       "      <td>0.935593</td>\n",
       "    </tr>\n",
       "    <tr>\n",
       "      <th>1</th>\n",
       "      <td>LogisticRegression</td>\n",
       "      <td>0.049025</td>\n",
       "      <td>0.855254</td>\n",
       "    </tr>\n",
       "    <tr>\n",
       "      <th>2</th>\n",
       "      <td>SVM</td>\n",
       "      <td>0.158120</td>\n",
       "      <td>0.840000</td>\n",
       "    </tr>\n",
       "    <tr>\n",
       "      <th>0</th>\n",
       "      <td>KNN</td>\n",
       "      <td>0.004401</td>\n",
       "      <td>0.832881</td>\n",
       "    </tr>\n",
       "    <tr>\n",
       "      <th>3</th>\n",
       "      <td>Naive Bayes</td>\n",
       "      <td>0.008028</td>\n",
       "      <td>0.722373</td>\n",
       "    </tr>\n",
       "  </tbody>\n",
       "</table>\n",
       "</div>\n",
       "    <div class=\"colab-df-buttons\">\n",
       "\n",
       "  <div class=\"colab-df-container\">\n",
       "    <button class=\"colab-df-convert\" onclick=\"convertToInteractive('df-1422b0c9-2e24-4c50-a425-c470beeb0972')\"\n",
       "            title=\"Convert this dataframe to an interactive table.\"\n",
       "            style=\"display:none;\">\n",
       "\n",
       "  <svg xmlns=\"http://www.w3.org/2000/svg\" height=\"24px\" viewBox=\"0 -960 960 960\">\n",
       "    <path d=\"M120-120v-720h720v720H120Zm60-500h600v-160H180v160Zm220 220h160v-160H400v160Zm0 220h160v-160H400v160ZM180-400h160v-160H180v160Zm440 0h160v-160H620v160ZM180-180h160v-160H180v160Zm440 0h160v-160H620v160Z\"/>\n",
       "  </svg>\n",
       "    </button>\n",
       "\n",
       "  <style>\n",
       "    .colab-df-container {\n",
       "      display:flex;\n",
       "      gap: 12px;\n",
       "    }\n",
       "\n",
       "    .colab-df-convert {\n",
       "      background-color: #E8F0FE;\n",
       "      border: none;\n",
       "      border-radius: 50%;\n",
       "      cursor: pointer;\n",
       "      display: none;\n",
       "      fill: #1967D2;\n",
       "      height: 32px;\n",
       "      padding: 0 0 0 0;\n",
       "      width: 32px;\n",
       "    }\n",
       "\n",
       "    .colab-df-convert:hover {\n",
       "      background-color: #E2EBFA;\n",
       "      box-shadow: 0px 1px 2px rgba(60, 64, 67, 0.3), 0px 1px 3px 1px rgba(60, 64, 67, 0.15);\n",
       "      fill: #174EA6;\n",
       "    }\n",
       "\n",
       "    .colab-df-buttons div {\n",
       "      margin-bottom: 4px;\n",
       "    }\n",
       "\n",
       "    [theme=dark] .colab-df-convert {\n",
       "      background-color: #3B4455;\n",
       "      fill: #D2E3FC;\n",
       "    }\n",
       "\n",
       "    [theme=dark] .colab-df-convert:hover {\n",
       "      background-color: #434B5C;\n",
       "      box-shadow: 0px 1px 3px 1px rgba(0, 0, 0, 0.15);\n",
       "      filter: drop-shadow(0px 1px 2px rgba(0, 0, 0, 0.3));\n",
       "      fill: #FFFFFF;\n",
       "    }\n",
       "  </style>\n",
       "\n",
       "    <script>\n",
       "      const buttonEl =\n",
       "        document.querySelector('#df-1422b0c9-2e24-4c50-a425-c470beeb0972 button.colab-df-convert');\n",
       "      buttonEl.style.display =\n",
       "        google.colab.kernel.accessAllowed ? 'block' : 'none';\n",
       "\n",
       "      async function convertToInteractive(key) {\n",
       "        const element = document.querySelector('#df-1422b0c9-2e24-4c50-a425-c470beeb0972');\n",
       "        const dataTable =\n",
       "          await google.colab.kernel.invokeFunction('convertToInteractive',\n",
       "                                                    [key], {});\n",
       "        if (!dataTable) return;\n",
       "\n",
       "        const docLinkHtml = 'Like what you see? Visit the ' +\n",
       "          '<a target=\"_blank\" href=https://colab.research.google.com/notebooks/data_table.ipynb>data table notebook</a>'\n",
       "          + ' to learn more about interactive tables.';\n",
       "        element.innerHTML = '';\n",
       "        dataTable['output_type'] = 'display_data';\n",
       "        await google.colab.output.renderOutput(dataTable, element);\n",
       "        const docLink = document.createElement('div');\n",
       "        docLink.innerHTML = docLinkHtml;\n",
       "        element.appendChild(docLink);\n",
       "      }\n",
       "    </script>\n",
       "  </div>\n",
       "\n",
       "\n",
       "<div id=\"df-7ff3121e-81a3-4aba-b697-d5d6c452d247\">\n",
       "  <button class=\"colab-df-quickchart\" onclick=\"quickchart('df-7ff3121e-81a3-4aba-b697-d5d6c452d247')\"\n",
       "            title=\"Suggest charts\"\n",
       "            style=\"display:none;\">\n",
       "\n",
       "<svg xmlns=\"http://www.w3.org/2000/svg\" height=\"24px\"viewBox=\"0 0 24 24\"\n",
       "     width=\"24px\">\n",
       "    <g>\n",
       "        <path d=\"M19 3H5c-1.1 0-2 .9-2 2v14c0 1.1.9 2 2 2h14c1.1 0 2-.9 2-2V5c0-1.1-.9-2-2-2zM9 17H7v-7h2v7zm4 0h-2V7h2v10zm4 0h-2v-4h2v4z\"/>\n",
       "    </g>\n",
       "</svg>\n",
       "  </button>\n",
       "\n",
       "<style>\n",
       "  .colab-df-quickchart {\n",
       "      --bg-color: #E8F0FE;\n",
       "      --fill-color: #1967D2;\n",
       "      --hover-bg-color: #E2EBFA;\n",
       "      --hover-fill-color: #174EA6;\n",
       "      --disabled-fill-color: #AAA;\n",
       "      --disabled-bg-color: #DDD;\n",
       "  }\n",
       "\n",
       "  [theme=dark] .colab-df-quickchart {\n",
       "      --bg-color: #3B4455;\n",
       "      --fill-color: #D2E3FC;\n",
       "      --hover-bg-color: #434B5C;\n",
       "      --hover-fill-color: #FFFFFF;\n",
       "      --disabled-bg-color: #3B4455;\n",
       "      --disabled-fill-color: #666;\n",
       "  }\n",
       "\n",
       "  .colab-df-quickchart {\n",
       "    background-color: var(--bg-color);\n",
       "    border: none;\n",
       "    border-radius: 50%;\n",
       "    cursor: pointer;\n",
       "    display: none;\n",
       "    fill: var(--fill-color);\n",
       "    height: 32px;\n",
       "    padding: 0;\n",
       "    width: 32px;\n",
       "  }\n",
       "\n",
       "  .colab-df-quickchart:hover {\n",
       "    background-color: var(--hover-bg-color);\n",
       "    box-shadow: 0 1px 2px rgba(60, 64, 67, 0.3), 0 1px 3px 1px rgba(60, 64, 67, 0.15);\n",
       "    fill: var(--button-hover-fill-color);\n",
       "  }\n",
       "\n",
       "  .colab-df-quickchart-complete:disabled,\n",
       "  .colab-df-quickchart-complete:disabled:hover {\n",
       "    background-color: var(--disabled-bg-color);\n",
       "    fill: var(--disabled-fill-color);\n",
       "    box-shadow: none;\n",
       "  }\n",
       "\n",
       "  .colab-df-spinner {\n",
       "    border: 2px solid var(--fill-color);\n",
       "    border-color: transparent;\n",
       "    border-bottom-color: var(--fill-color);\n",
       "    animation:\n",
       "      spin 1s steps(1) infinite;\n",
       "  }\n",
       "\n",
       "  @keyframes spin {\n",
       "    0% {\n",
       "      border-color: transparent;\n",
       "      border-bottom-color: var(--fill-color);\n",
       "      border-left-color: var(--fill-color);\n",
       "    }\n",
       "    20% {\n",
       "      border-color: transparent;\n",
       "      border-left-color: var(--fill-color);\n",
       "      border-top-color: var(--fill-color);\n",
       "    }\n",
       "    30% {\n",
       "      border-color: transparent;\n",
       "      border-left-color: var(--fill-color);\n",
       "      border-top-color: var(--fill-color);\n",
       "      border-right-color: var(--fill-color);\n",
       "    }\n",
       "    40% {\n",
       "      border-color: transparent;\n",
       "      border-right-color: var(--fill-color);\n",
       "      border-top-color: var(--fill-color);\n",
       "    }\n",
       "    60% {\n",
       "      border-color: transparent;\n",
       "      border-right-color: var(--fill-color);\n",
       "    }\n",
       "    80% {\n",
       "      border-color: transparent;\n",
       "      border-right-color: var(--fill-color);\n",
       "      border-bottom-color: var(--fill-color);\n",
       "    }\n",
       "    90% {\n",
       "      border-color: transparent;\n",
       "      border-bottom-color: var(--fill-color);\n",
       "    }\n",
       "  }\n",
       "</style>\n",
       "\n",
       "  <script>\n",
       "    async function quickchart(key) {\n",
       "      const quickchartButtonEl =\n",
       "        document.querySelector('#' + key + ' button');\n",
       "      quickchartButtonEl.disabled = true;  // To prevent multiple clicks.\n",
       "      quickchartButtonEl.classList.add('colab-df-spinner');\n",
       "      try {\n",
       "        const charts = await google.colab.kernel.invokeFunction(\n",
       "            'suggestCharts', [key], {});\n",
       "      } catch (error) {\n",
       "        console.error('Error during call to suggestCharts:', error);\n",
       "      }\n",
       "      quickchartButtonEl.classList.remove('colab-df-spinner');\n",
       "      quickchartButtonEl.classList.add('colab-df-quickchart-complete');\n",
       "    }\n",
       "    (() => {\n",
       "      let quickchartButtonEl =\n",
       "        document.querySelector('#df-7ff3121e-81a3-4aba-b697-d5d6c452d247 button');\n",
       "      quickchartButtonEl.style.display =\n",
       "        google.colab.kernel.accessAllowed ? 'block' : 'none';\n",
       "    })();\n",
       "  </script>\n",
       "</div>\n",
       "\n",
       "    </div>\n",
       "  </div>\n"
      ],
      "text/plain": [
       "                Model  Fitting Time  Accuracy\n",
       "5        RandomForest      0.830042  0.953559\n",
       "6       GradientBoost      1.218198  0.940339\n",
       "4        DecisionTree      0.029545  0.935593\n",
       "1  LogisticRegression      0.049025  0.855254\n",
       "2                 SVM      0.158120  0.840000\n",
       "0                 KNN      0.004401  0.832881\n",
       "3         Naive Bayes      0.008028  0.722373"
      ]
     },
     "execution_count": 28,
     "metadata": {},
     "output_type": "execute_result"
    }
   ],
   "source": [
    "results = pd.DataFrame(results)\n",
    "results.sort_values(\"Accuracy\", ascending=False)"
   ]
  },
  {
   "cell_type": "code",
   "execution_count": null,
   "id": "aa8e5fd0-1b05-48ac-93a9-2cff9cda7362",
   "metadata": {
    "colab": {
     "base_uri": "https://localhost:8080/",
     "height": 449
    },
    "id": "aa8e5fd0-1b05-48ac-93a9-2cff9cda7362",
    "outputId": "cd4ab965-616d-4d5c-c0ea-ea279d8d640e"
   },
   "outputs": [
    {
     "data": {
      "image/png": "[encoded data removed]",
      "text/plain": [
       "<Figure size 640x480 with 1 Axes>"
      ]
     },
     "metadata": {},
     "output_type": "display_data"
    }
   ],
   "source": [
    "### visualize the prediction\n",
    "\n",
    "ax = sns.scatterplot(x=\"Fitting Time\", y=\"Accuracy\", data=results)\n",
    "for x, y, model_name in results[['Fitting Time', 'Accuracy', 'Model']].values:\n",
    "    ax.text(x+.005, y, model_name)"
   ]
  },
  {
   "cell_type": "markdown",
   "id": "ce39ec80-2637-4971-a37c-247e5f4c72c0",
   "metadata": {
    "id": "ce39ec80-2637-4971-a37c-247e5f4c72c0"
   },
   "source": [
    "As we can see, the best model is the Random Forest model. We can either choose\n",
    "1. fine tune the best model to get the best prediction result.\n",
    "2. use a set of best model to generate an ensamble model for prediction."
   ]
  },
  {
   "cell_type": "markdown",
   "id": "0eb1e30e-27ee-4d79-8eea-ac9252fdee26",
   "metadata": {
    "id": "0eb1e30e-27ee-4d79-8eea-ac9252fdee26"
   },
   "source": [
    "### Next Step 1: Fine Tune the Best Model"
   ]
  },
  {
   "cell_type": "code",
   "execution_count": null,
   "id": "7d14e5be-621a-4e33-a1fe-a0bd64af117c",
   "metadata": {
    "id": "7d14e5be-621a-4e33-a1fe-a0bd64af117c"
   },
   "outputs": [],
   "source": [
    "from sklearn.model_selection import GridSearchCV    ## use cross validation to search for best model hyper-parameters\n",
    "\n",
    "# Define model\n",
    "rf = RandomForestClassifier()\n",
    "\n",
    "# Define parameter grid\n",
    "param_grid = {\n",
    "    'n_estimators': [100, 200, 500],\n",
    "    'max_depth': [None, 10, 15],\n",
    "    'criterion': ['gini', 'entropy'],\n",
    "}"
   ]
  },
  {
   "cell_type": "code",
   "execution_count": null,
   "id": "9dec0af2-4d36-4faa-bf95-969f5e810fb1",
   "metadata": {
    "colab": {
     "base_uri": "https://localhost:8080/"
    },
    "id": "9dec0af2-4d36-4faa-bf95-969f5e810fb1",
    "outputId": "f7ce9170-0866-46b3-e0e5-729dfb67f9d0"
   },
   "outputs": [
    {
     "name": "stdout",
     "output_type": "stream",
     "text": [
      "Best parameters:  {'criterion': 'entropy', 'max_depth': 15, 'n_estimators': 200}\n",
      "Best score:  0.9545762711864407\n"
     ]
    }
   ],
   "source": [
    "# Perform grid search\n",
    "grid_search = GridSearchCV(rf, param_grid=param_grid, cv=5, n_jobs=-1)\n",
    "grid_search.fit(X, Y)\n",
    "\n",
    "# Print best parameters and score\n",
    "print(\"Best parameters: \", grid_search.best_params_)\n",
    "print(\"Best score: \", grid_search.best_score_)"
   ]
  },
  {
   "cell_type": "markdown",
   "id": "ff79bd74-12c6-4e20-a978-2cbc4b2a7f9c",
   "metadata": {
    "id": "ff79bd74-12c6-4e20-a978-2cbc4b2a7f9c"
   },
   "source": [
    "- As we can see, the fine tuned RF model is 0.004 higher in accuracy than the RF model with default parameters."
   ]
  },
  {
   "cell_type": "markdown",
   "id": "fc4bdc04-0659-4786-a564-cb8c1d84d009",
   "metadata": {
    "id": "fc4bdc04-0659-4786-a564-cb8c1d84d009"
   },
   "source": [
    "### Next Step 2: General Ensembled Classifier"
   ]
  },
  {
   "cell_type": "code",
   "execution_count": null,
   "id": "bd87670b-4d6e-4d4a-b7ef-19bf3fc8b1d6",
   "metadata": {
    "colab": {
     "base_uri": "https://localhost:8080/"
    },
    "id": "bd87670b-4d6e-4d4a-b7ef-19bf3fc8b1d6",
    "outputId": "5fa5b114-8fac-42ff-b569-a28ef72db24e"
   },
   "outputs": [
    {
     "name": "stdout",
     "output_type": "stream",
     "text": [
      "Average Fitting Time: 1.1113714218139648\n",
      "Average Accuracy: 0.9505084745762712\n"
     ]
    }
   ],
   "source": [
    "from sklearn.ensemble import VotingClassifier\n",
    "\n",
    "rf = RandomForestClassifier()\n",
    "knn = KNeighborsClassifier()\n",
    "gb = GradientBoostingClassifier()\n",
    "tree = DecisionTreeClassifier()\n",
    "\n",
    "vc = VotingClassifier(estimators=[(\"RandomForest\", rf),\n",
    "                                  (\"KNN\", knn),\n",
    "                                  (\"GradientBoost\", gb),\n",
    "                                  (\"DecisionTree\", tree)],\n",
    "                                  voting=\"soft\", weights=[3,1,1,1])\n",
    "\n",
    "scores = cross_validate(estimator=vc, X=X, y=Y, cv=5, scoring=\"accuracy\")\n",
    "\n",
    "print(\"Average Fitting Time:\", scores['fit_time'].mean())\n",
    "print(\"Average Accuracy:\", scores['test_score'].mean())"
   ]
  },
  {
   "cell_type": "markdown",
   "id": "ba6fca61-5b6e-4277-b6b3-ef9e9092036a",
   "metadata": {
    "id": "ba6fca61-5b6e-4277-b6b3-ef9e9092036a"
   },
   "source": [
    "- The generalized ensamble model is also 0.002 higher in accuracy than the RF model with default parameters."
   ]
  },
  {
   "cell_type": "markdown",
   "id": "22cddd43-e0fc-46e6-bd2a-2befa58ab922",
   "metadata": {
    "id": "22cddd43-e0fc-46e6-bd2a-2befa58ab922"
   },
   "source": [
    "## Apply the Best Model to Improve Customer Retention"
   ]
  },
  {
   "cell_type": "markdown",
   "id": "739ac535-06ae-47f1-8975-e211967024ea",
   "metadata": {
    "id": "739ac535-06ae-47f1-8975-e211967024ea"
   },
   "source": [
    "- Since the fine turned RF model yields the best performance, we will apply it to predict the churn for next year's customers."
   ]
  },
  {
   "cell_type": "code",
   "execution_count": null,
   "id": "fabd70cb-489d-40f7-88c7-f9ddf961f6bb",
   "metadata": {
    "id": "fabd70cb-489d-40f7-88c7-f9ddf961f6bb"
   },
   "outputs": [],
   "source": [
    "## Apply the same data preprocessing to the next year's data\n",
    "\n",
    "from sklearn.preprocessing import StandardScaler\n",
    "\n",
    "features = ['Call  Failure', 'Complains', 'Subscription  Length', 'Charge  Amount',\n",
    "            'Seconds of Use', 'Frequency of use', 'Frequency of SMS',\n",
    "            'Distinct Called Numbers', 'Age Group', 'Tariff Plan', 'Status', 'Customer Value']   # features / independent variables\n",
    "target = ['Churn']     # target / dependent variable\n",
    "\n",
    "# extract corresponding columns\n",
    "X2 = next_year[features].values\n",
    "Y2 = next_year[target].values.ravel()\n",
    "\n",
    "## standardize features\n",
    "X2 = StandardScaler().fit_transform(X2)"
   ]
  },
  {
   "cell_type": "code",
   "execution_count": null,
   "id": "827efd86-41a4-4fe8-8d65-140086b1f696",
   "metadata": {
    "id": "827efd86-41a4-4fe8-8d65-140086b1f696"
   },
   "outputs": [],
   "source": [
    "rf = RandomForestClassifier (n_estimators=200, max_depth= None, criterion = \"entropy\")\n",
    "rf.fit (X,Y)\n",
    "\n",
    "y_pred = rf.predict(X2)"
   ]
  },
  {
   "cell_type": "code",
   "execution_count": null,
   "id": "40341ef9-9955-47b1-85e0-d2d645c17af3",
   "metadata": {
    "id": "40341ef9-9955-47b1-85e0-d2d645c17af3"
   },
   "outputs": [],
   "source": [
    "next_year['pred_churn'] = y_pred  # map the prediction back to the dataset"
   ]
  },
  {
   "cell_type": "code",
   "execution_count": null,
   "id": "5c593ff6-b963-4bb3-aa7d-3226aad7dd3d",
   "metadata": {
    "colab": {
     "base_uri": "https://localhost:8080/",
     "height": 417
    },
    "id": "5c593ff6-b963-4bb3-aa7d-3226aad7dd3d",
    "outputId": "45df5ef5-7e7c-4b65-a47b-9076eec86739"
   },
   "outputs": [
    {
     "data": {
      "text/html": [
       "\n",
       "  <div id=\"df-5610ca3f-4449-4129-aaf4-1e3ad9e2c56c\" class=\"colab-df-container\">\n",
       "    <div>\n",
       "<style scoped>\n",
       "    .dataframe tbody tr th:only-of-type {\n",
       "        vertical-align: middle;\n",
       "    }\n",
       "\n",
       "    .dataframe tbody tr th {\n",
       "        vertical-align: top;\n",
       "    }\n",
       "\n",
       "    .dataframe thead th {\n",
       "        text-align: right;\n",
       "    }\n",
       "</style>\n",
       "<table border=\"1\" class=\"dataframe\">\n",
       "  <thead>\n",
       "    <tr style=\"text-align: right;\">\n",
       "      <th></th>\n",
       "      <th>Call  Failure</th>\n",
       "      <th>Complains</th>\n",
       "      <th>Subscription  Length</th>\n",
       "      <th>Charge  Amount</th>\n",
       "      <th>Seconds of Use</th>\n",
       "      <th>Frequency of use</th>\n",
       "      <th>Frequency of SMS</th>\n",
       "      <th>Distinct Called Numbers</th>\n",
       "      <th>Age Group</th>\n",
       "      <th>Tariff Plan</th>\n",
       "      <th>Status</th>\n",
       "      <th>Customer Value</th>\n",
       "      <th>Churn</th>\n",
       "      <th>pred_churn</th>\n",
       "    </tr>\n",
       "  </thead>\n",
       "  <tbody>\n",
       "    <tr>\n",
       "      <th>2124</th>\n",
       "      <td>18</td>\n",
       "      <td>0</td>\n",
       "      <td>38</td>\n",
       "      <td>2</td>\n",
       "      <td>6123</td>\n",
       "      <td>104</td>\n",
       "      <td>33</td>\n",
       "      <td>26</td>\n",
       "      <td>2</td>\n",
       "      <td>1</td>\n",
       "      <td>1</td>\n",
       "      <td>428.715</td>\n",
       "      <td>0</td>\n",
       "      <td>1</td>\n",
       "    </tr>\n",
       "    <tr>\n",
       "      <th>1324</th>\n",
       "      <td>13</td>\n",
       "      <td>0</td>\n",
       "      <td>40</td>\n",
       "      <td>1</td>\n",
       "      <td>5773</td>\n",
       "      <td>102</td>\n",
       "      <td>34</td>\n",
       "      <td>28</td>\n",
       "      <td>2</td>\n",
       "      <td>1</td>\n",
       "      <td>1</td>\n",
       "      <td>417.375</td>\n",
       "      <td>0</td>\n",
       "      <td>1</td>\n",
       "    </tr>\n",
       "    <tr>\n",
       "      <th>74</th>\n",
       "      <td>16</td>\n",
       "      <td>0</td>\n",
       "      <td>38</td>\n",
       "      <td>2</td>\n",
       "      <td>5878</td>\n",
       "      <td>101</td>\n",
       "      <td>31</td>\n",
       "      <td>26</td>\n",
       "      <td>2</td>\n",
       "      <td>1</td>\n",
       "      <td>1</td>\n",
       "      <td>408.555</td>\n",
       "      <td>0</td>\n",
       "      <td>1</td>\n",
       "    </tr>\n",
       "    <tr>\n",
       "      <th>2224</th>\n",
       "      <td>15</td>\n",
       "      <td>0</td>\n",
       "      <td>36</td>\n",
       "      <td>1</td>\n",
       "      <td>6063</td>\n",
       "      <td>101</td>\n",
       "      <td>28</td>\n",
       "      <td>24</td>\n",
       "      <td>2</td>\n",
       "      <td>1</td>\n",
       "      <td>1</td>\n",
       "      <td>403.380</td>\n",
       "      <td>0</td>\n",
       "      <td>1</td>\n",
       "    </tr>\n",
       "    <tr>\n",
       "      <th>1174</th>\n",
       "      <td>5</td>\n",
       "      <td>1</td>\n",
       "      <td>32</td>\n",
       "      <td>0</td>\n",
       "      <td>5453</td>\n",
       "      <td>89</td>\n",
       "      <td>14</td>\n",
       "      <td>20</td>\n",
       "      <td>2</td>\n",
       "      <td>1</td>\n",
       "      <td>1</td>\n",
       "      <td>312.390</td>\n",
       "      <td>1</td>\n",
       "      <td>1</td>\n",
       "    </tr>\n",
       "    <tr>\n",
       "      <th>677</th>\n",
       "      <td>11</td>\n",
       "      <td>1</td>\n",
       "      <td>36</td>\n",
       "      <td>0</td>\n",
       "      <td>2458</td>\n",
       "      <td>45</td>\n",
       "      <td>43</td>\n",
       "      <td>34</td>\n",
       "      <td>3</td>\n",
       "      <td>1</td>\n",
       "      <td>2</td>\n",
       "      <td>272.120</td>\n",
       "      <td>1</td>\n",
       "      <td>1</td>\n",
       "    </tr>\n",
       "    <tr>\n",
       "      <th>524</th>\n",
       "      <td>9</td>\n",
       "      <td>1</td>\n",
       "      <td>36</td>\n",
       "      <td>0</td>\n",
       "      <td>5218</td>\n",
       "      <td>88</td>\n",
       "      <td>5</td>\n",
       "      <td>9</td>\n",
       "      <td>2</td>\n",
       "      <td>1</td>\n",
       "      <td>1</td>\n",
       "      <td>261.270</td>\n",
       "      <td>1</td>\n",
       "      <td>1</td>\n",
       "    </tr>\n",
       "    <tr>\n",
       "      <th>77</th>\n",
       "      <td>12</td>\n",
       "      <td>1</td>\n",
       "      <td>38</td>\n",
       "      <td>1</td>\n",
       "      <td>2328</td>\n",
       "      <td>47</td>\n",
       "      <td>39</td>\n",
       "      <td>33</td>\n",
       "      <td>3</td>\n",
       "      <td>1</td>\n",
       "      <td>1</td>\n",
       "      <td>251.000</td>\n",
       "      <td>1</td>\n",
       "      <td>1</td>\n",
       "    </tr>\n",
       "    <tr>\n",
       "      <th>2586</th>\n",
       "      <td>12</td>\n",
       "      <td>1</td>\n",
       "      <td>37</td>\n",
       "      <td>0</td>\n",
       "      <td>2570</td>\n",
       "      <td>60</td>\n",
       "      <td>66</td>\n",
       "      <td>37</td>\n",
       "      <td>4</td>\n",
       "      <td>1</td>\n",
       "      <td>2</td>\n",
       "      <td>230.750</td>\n",
       "      <td>1</td>\n",
       "      <td>1</td>\n",
       "    </tr>\n",
       "    <tr>\n",
       "      <th>2027</th>\n",
       "      <td>4</td>\n",
       "      <td>1</td>\n",
       "      <td>34</td>\n",
       "      <td>0</td>\n",
       "      <td>1963</td>\n",
       "      <td>38</td>\n",
       "      <td>27</td>\n",
       "      <td>29</td>\n",
       "      <td>3</td>\n",
       "      <td>1</td>\n",
       "      <td>2</td>\n",
       "      <td>188.040</td>\n",
       "      <td>1</td>\n",
       "      <td>1</td>\n",
       "    </tr>\n",
       "  </tbody>\n",
       "</table>\n",
       "</div>\n",
       "    <div class=\"colab-df-buttons\">\n",
       "\n",
       "  <div class=\"colab-df-container\">\n",
       "    <button class=\"colab-df-convert\" onclick=\"convertToInteractive('df-5610ca3f-4449-4129-aaf4-1e3ad9e2c56c')\"\n",
       "            title=\"Convert this dataframe to an interactive table.\"\n",
       "            style=\"display:none;\">\n",
       "\n",
       "  <svg xmlns=\"http://www.w3.org/2000/svg\" height=\"24px\" viewBox=\"0 -960 960 960\">\n",
       "    <path d=\"M120-120v-720h720v720H120Zm60-500h600v-160H180v160Zm220 220h160v-160H400v160Zm0 220h160v-160H400v160ZM180-400h160v-160H180v160Zm440 0h160v-160H620v160ZM180-180h160v-160H180v160Zm440 0h160v-160H620v160Z\"/>\n",
       "  </svg>\n",
       "    </button>\n",
       "\n",
       "  <style>\n",
       "    .colab-df-container {\n",
       "      display:flex;\n",
       "      gap: 12px;\n",
       "    }\n",
       "\n",
       "    .colab-df-convert {\n",
       "      background-color: #E8F0FE;\n",
       "      border: none;\n",
       "      border-radius: 50%;\n",
       "      cursor: pointer;\n",
       "      display: none;\n",
       "      fill: #1967D2;\n",
       "      height: 32px;\n",
       "      padding: 0 0 0 0;\n",
       "      width: 32px;\n",
       "    }\n",
       "\n",
       "    .colab-df-convert:hover {\n",
       "      background-color: #E2EBFA;\n",
       "      box-shadow: 0px 1px 2px rgba(60, 64, 67, 0.3), 0px 1px 3px 1px rgba(60, 64, 67, 0.15);\n",
       "      fill: #174EA6;\n",
       "    }\n",
       "\n",
       "    .colab-df-buttons div {\n",
       "      margin-bottom: 4px;\n",
       "    }\n",
       "\n",
       "    [theme=dark] .colab-df-convert {\n",
       "      background-color: #3B4455;\n",
       "      fill: #D2E3FC;\n",
       "    }\n",
       "\n",
       "    [theme=dark] .colab-df-convert:hover {\n",
       "      background-color: #434B5C;\n",
       "      box-shadow: 0px 1px 3px 1px rgba(0, 0, 0, 0.15);\n",
       "      filter: drop-shadow(0px 1px 2px rgba(0, 0, 0, 0.3));\n",
       "      fill: #FFFFFF;\n",
       "    }\n",
       "  </style>\n",
       "\n",
       "    <script>\n",
       "      const buttonEl =\n",
       "        document.querySelector('#df-5610ca3f-4449-4129-aaf4-1e3ad9e2c56c button.colab-df-convert');\n",
       "      buttonEl.style.display =\n",
       "        google.colab.kernel.accessAllowed ? 'block' : 'none';\n",
       "\n",
       "      async function convertToInteractive(key) {\n",
       "        const element = document.querySelector('#df-5610ca3f-4449-4129-aaf4-1e3ad9e2c56c');\n",
       "        const dataTable =\n",
       "          await google.colab.kernel.invokeFunction('convertToInteractive',\n",
       "                                                    [key], {});\n",
       "        if (!dataTable) return;\n",
       "\n",
       "        const docLinkHtml = 'Like what you see? Visit the ' +\n",
       "          '<a target=\"_blank\" href=https://colab.research.google.com/notebooks/data_table.ipynb>data table notebook</a>'\n",
       "          + ' to learn more about interactive tables.';\n",
       "        element.innerHTML = '';\n",
       "        dataTable['output_type'] = 'display_data';\n",
       "        await google.colab.output.renderOutput(dataTable, element);\n",
       "        const docLink = document.createElement('div');\n",
       "        docLink.innerHTML = docLinkHtml;\n",
       "        element.appendChild(docLink);\n",
       "      }\n",
       "    </script>\n",
       "  </div>\n",
       "\n",
       "\n",
       "<div id=\"df-739477f8-e29b-4583-b1c7-75f7890891ee\">\n",
       "  <button class=\"colab-df-quickchart\" onclick=\"quickchart('df-739477f8-e29b-4583-b1c7-75f7890891ee')\"\n",
       "            title=\"Suggest charts\"\n",
       "            style=\"display:none;\">\n",
       "\n",
       "<svg xmlns=\"http://www.w3.org/2000/svg\" height=\"24px\"viewBox=\"0 0 24 24\"\n",
       "     width=\"24px\">\n",
       "    <g>\n",
       "        <path d=\"M19 3H5c-1.1 0-2 .9-2 2v14c0 1.1.9 2 2 2h14c1.1 0 2-.9 2-2V5c0-1.1-.9-2-2-2zM9 17H7v-7h2v7zm4 0h-2V7h2v10zm4 0h-2v-4h2v4z\"/>\n",
       "    </g>\n",
       "</svg>\n",
       "  </button>\n",
       "\n",
       "<style>\n",
       "  .colab-df-quickchart {\n",
       "      --bg-color: #E8F0FE;\n",
       "      --fill-color: #1967D2;\n",
       "      --hover-bg-color: #E2EBFA;\n",
       "      --hover-fill-color: #174EA6;\n",
       "      --disabled-fill-color: #AAA;\n",
       "      --disabled-bg-color: #DDD;\n",
       "  }\n",
       "\n",
       "  [theme=dark] .colab-df-quickchart {\n",
       "      --bg-color: #3B4455;\n",
       "      --fill-color: #D2E3FC;\n",
       "      --hover-bg-color: #434B5C;\n",
       "      --hover-fill-color: #FFFFFF;\n",
       "      --disabled-bg-color: #3B4455;\n",
       "      --disabled-fill-color: #666;\n",
       "  }\n",
       "\n",
       "  .colab-df-quickchart {\n",
       "    background-color: var(--bg-color);\n",
       "    border: none;\n",
       "    border-radius: 50%;\n",
       "    cursor: pointer;\n",
       "    display: none;\n",
       "    fill: var(--fill-color);\n",
       "    height: 32px;\n",
       "    padding: 0;\n",
       "    width: 32px;\n",
       "  }\n",
       "\n",
       "  .colab-df-quickchart:hover {\n",
       "    background-color: var(--hover-bg-color);\n",
       "    box-shadow: 0 1px 2px rgba(60, 64, 67, 0.3), 0 1px 3px 1px rgba(60, 64, 67, 0.15);\n",
       "    fill: var(--button-hover-fill-color);\n",
       "  }\n",
       "\n",
       "  .colab-df-quickchart-complete:disabled,\n",
       "  .colab-df-quickchart-complete:disabled:hover {\n",
       "    background-color: var(--disabled-bg-color);\n",
       "    fill: var(--disabled-fill-color);\n",
       "    box-shadow: none;\n",
       "  }\n",
       "\n",
       "  .colab-df-spinner {\n",
       "    border: 2px solid var(--fill-color);\n",
       "    border-color: transparent;\n",
       "    border-bottom-color: var(--fill-color);\n",
       "    animation:\n",
       "      spin 1s steps(1) infinite;\n",
       "  }\n",
       "\n",
       "  @keyframes spin {\n",
       "    0% {\n",
       "      border-color: transparent;\n",
       "      border-bottom-color: var(--fill-color);\n",
       "      border-left-color: var(--fill-color);\n",
       "    }\n",
       "    20% {\n",
       "      border-color: transparent;\n",
       "      border-left-color: var(--fill-color);\n",
       "      border-top-color: var(--fill-color);\n",
       "    }\n",
       "    30% {\n",
       "      border-color: transparent;\n",
       "      border-left-color: var(--fill-color);\n",
       "      border-top-color: var(--fill-color);\n",
       "      border-right-color: var(--fill-color);\n",
       "    }\n",
       "    40% {\n",
       "      border-color: transparent;\n",
       "      border-right-color: var(--fill-color);\n",
       "      border-top-color: var(--fill-color);\n",
       "    }\n",
       "    60% {\n",
       "      border-color: transparent;\n",
       "      border-right-color: var(--fill-color);\n",
       "    }\n",
       "    80% {\n",
       "      border-color: transparent;\n",
       "      border-right-color: var(--fill-color);\n",
       "      border-bottom-color: var(--fill-color);\n",
       "    }\n",
       "    90% {\n",
       "      border-color: transparent;\n",
       "      border-bottom-color: var(--fill-color);\n",
       "    }\n",
       "  }\n",
       "</style>\n",
       "\n",
       "  <script>\n",
       "    async function quickchart(key) {\n",
       "      const quickchartButtonEl =\n",
       "        document.querySelector('#' + key + ' button');\n",
       "      quickchartButtonEl.disabled = true;  // To prevent multiple clicks.\n",
       "      quickchartButtonEl.classList.add('colab-df-spinner');\n",
       "      try {\n",
       "        const charts = await google.colab.kernel.invokeFunction(\n",
       "            'suggestCharts', [key], {});\n",
       "      } catch (error) {\n",
       "        console.error('Error during call to suggestCharts:', error);\n",
       "      }\n",
       "      quickchartButtonEl.classList.remove('colab-df-spinner');\n",
       "      quickchartButtonEl.classList.add('colab-df-quickchart-complete');\n",
       "    }\n",
       "    (() => {\n",
       "      let quickchartButtonEl =\n",
       "        document.querySelector('#df-739477f8-e29b-4583-b1c7-75f7890891ee button');\n",
       "      quickchartButtonEl.style.display =\n",
       "        google.colab.kernel.accessAllowed ? 'block' : 'none';\n",
       "    })();\n",
       "  </script>\n",
       "</div>\n",
       "\n",
       "    </div>\n",
       "  </div>\n"
      ],
      "text/plain": [
       "      Call  Failure  Complains  Subscription  Length  Charge  Amount  \\\n",
       "2124             18          0                    38               2   \n",
       "1324             13          0                    40               1   \n",
       "74               16          0                    38               2   \n",
       "2224             15          0                    36               1   \n",
       "1174              5          1                    32               0   \n",
       "677              11          1                    36               0   \n",
       "524               9          1                    36               0   \n",
       "77               12          1                    38               1   \n",
       "2586             12          1                    37               0   \n",
       "2027              4          1                    34               0   \n",
       "\n",
       "      Seconds of Use  Frequency of use  Frequency of SMS  \\\n",
       "2124            6123               104                33   \n",
       "1324            5773               102                34   \n",
       "74              5878               101                31   \n",
       "2224            6063               101                28   \n",
       "1174            5453                89                14   \n",
       "677             2458                45                43   \n",
       "524             5218                88                 5   \n",
       "77              2328                47                39   \n",
       "2586            2570                60                66   \n",
       "2027            1963                38                27   \n",
       "\n",
       "      Distinct Called Numbers  Age Group  Tariff Plan  Status  Customer Value  \\\n",
       "2124                       26          2            1       1         428.715   \n",
       "1324                       28          2            1       1         417.375   \n",
       "74                         26          2            1       1         408.555   \n",
       "2224                       24          2            1       1         403.380   \n",
       "1174                       20          2            1       1         312.390   \n",
       "677                        34          3            1       2         272.120   \n",
       "524                         9          2            1       1         261.270   \n",
       "77                         33          3            1       1         251.000   \n",
       "2586                       37          4            1       2         230.750   \n",
       "2027                       29          3            1       2         188.040   \n",
       "\n",
       "      Churn  pred_churn  \n",
       "2124      0           1  \n",
       "1324      0           1  \n",
       "74        0           1  \n",
       "2224      0           1  \n",
       "1174      1           1  \n",
       "677       1           1  \n",
       "524       1           1  \n",
       "77        1           1  \n",
       "2586      1           1  \n",
       "2027      1           1  "
      ]
     },
     "execution_count": 37,
     "metadata": {},
     "output_type": "execute_result"
    }
   ],
   "source": [
    "## sort customer based on churn and their customer value\n",
    "mask = next_year['pred_churn'] == 1\n",
    "next_year[mask].sort_values([\"pred_churn\", \"Customer Value\"], ascending=False).head(10)"
   ]
  },
  {
   "cell_type": "markdown",
   "id": "8f6918bd-a238-46e9-8e1b-9f40563678bf",
   "metadata": {
    "id": "8f6918bd-a238-46e9-8e1b-9f40563678bf"
   },
   "source": [
    "- Then, as data scientist, we can ask the customer service department to call these customers who are likely to leave to improve their retetion.\n",
    "- The call can take turn based on the customer value, in which high value customers get higher priority."
   ]
  },
  {
   "cell_type": "markdown",
   "id": "2a419646-1a7a-4455-bf18-b08b6caf47ab",
   "metadata": {
    "id": "2a419646-1a7a-4455-bf18-b08b6caf47ab"
   },
   "source": [
    "## Machine Learning For Explainatory Purposes"
   ]
  },
  {
   "cell_type": "markdown",
   "id": "093e9cd5-eae6-4b84-a22a-1326c84f2d9c",
   "metadata": {
    "id": "093e9cd5-eae6-4b84-a22a-1326c84f2d9c"
   },
   "source": [
    "## Solution 1: Use Linear/Logistic Regressions"
   ]
  },
  {
   "cell_type": "code",
   "execution_count": null,
   "id": "78783845-b0f8-4a29-b99c-9a282dbcc52e",
   "metadata": {
    "id": "78783845-b0f8-4a29-b99c-9a282dbcc52e"
   },
   "outputs": [],
   "source": [
    "import statsmodels.api as sm"
   ]
  },
  {
   "cell_type": "code",
   "execution_count": null,
   "id": "c35eb844-1aa3-4da6-916c-cf0e12862365",
   "metadata": {
    "id": "c35eb844-1aa3-4da6-916c-cf0e12862365"
   },
   "outputs": [],
   "source": [
    "features = ['Call  Failure', 'Complains', 'Subscription  Length', 'Charge  Amount',\n",
    "            'Seconds of Use', 'Frequency of use', 'Frequency of SMS',\n",
    "            'Distinct Called Numbers', 'Age Group', 'Tariff Plan', 'Status', 'Customer Value']   # features / independent variables\n",
    "target = ['Churn']     # target / dependent variable\n",
    "\n",
    "# extract corresponding columns\n",
    "X3 = data[features]\n",
    "Y3 = data[target]\n",
    "\n",
    "## standardize features\n",
    "X3 = pd.DataFrame(StandardScaler().fit_transform(X3), columns=X3.columns)   ## we need to standardize all the features to make the coefficient compariable\n",
    "X3['constant'] = 1"
   ]
  },
  {
   "cell_type": "code",
   "execution_count": null,
   "id": "85f34624-7712-42ee-971d-e479ee91c52b",
   "metadata": {
    "colab": {
     "base_uri": "https://localhost:8080/",
     "height": 540
    },
    "id": "85f34624-7712-42ee-971d-e479ee91c52b",
    "outputId": "11233aad-911f-470e-fdcd-fa01d50138c4"
   },
   "outputs": [
    {
     "name": "stdout",
     "output_type": "stream",
     "text": [
      "Optimization terminated successfully.\n",
      "         Current function value: 0.219861\n",
      "         Iterations 10\n"
     ]
    },
    {
     "data": {
      "text/html": [
       "<table class=\"simpletable\">\n",
       "<caption>Logit Regression Results</caption>\n",
       "<tr>\n",
       "  <th>Dep. Variable:</th>         <td>Churn</td>      <th>  No. Observations:  </th>   <td>  3150</td>  \n",
       "</tr>\n",
       "<tr>\n",
       "  <th>Model:</th>                 <td>Logit</td>      <th>  Df Residuals:      </th>   <td>  3137</td>  \n",
       "</tr>\n",
       "<tr>\n",
       "  <th>Method:</th>                 <td>MLE</td>       <th>  Df Model:          </th>   <td>    12</td>  \n",
       "</tr>\n",
       "<tr>\n",
       "  <th>Date:</th>            <td>Sat, 03 Feb 2024</td> <th>  Pseudo R-squ.:     </th>   <td>0.4945</td>  \n",
       "</tr>\n",
       "<tr>\n",
       "  <th>Time:</th>                <td>15:21:44</td>     <th>  Log-Likelihood:    </th>  <td> -692.56</td> \n",
       "</tr>\n",
       "<tr>\n",
       "  <th>converged:</th>             <td>True</td>       <th>  LL-Null:           </th>  <td> -1369.9</td> \n",
       "</tr>\n",
       "<tr>\n",
       "  <th>Covariance Type:</th>     <td>nonrobust</td>    <th>  LLR p-value:       </th> <td>7.893e-283</td>\n",
       "</tr>\n",
       "</table>\n",
       "<table class=\"simpletable\">\n",
       "<tr>\n",
       "             <td></td>                <th>coef</th>     <th>std err</th>      <th>z</th>      <th>P>|z|</th>  <th>[0.025</th>    <th>0.975]</th>  \n",
       "</tr>\n",
       "<tr>\n",
       "  <th>Call  Failure</th>           <td>    0.9540</td> <td>    0.129</td> <td>    7.394</td> <td> 0.000</td> <td>    0.701</td> <td>    1.207</td>\n",
       "</tr>\n",
       "<tr>\n",
       "  <th>Complains</th>               <td>    1.0745</td> <td>    0.075</td> <td>   14.320</td> <td> 0.000</td> <td>    0.927</td> <td>    1.222</td>\n",
       "</tr>\n",
       "<tr>\n",
       "  <th>Subscription  Length</th>    <td>   -0.2567</td> <td>    0.082</td> <td>   -3.149</td> <td> 0.002</td> <td>   -0.416</td> <td>   -0.097</td>\n",
       "</tr>\n",
       "<tr>\n",
       "  <th>Charge  Amount</th>          <td>   -0.6318</td> <td>    0.183</td> <td>   -3.448</td> <td> 0.001</td> <td>   -0.991</td> <td>   -0.273</td>\n",
       "</tr>\n",
       "<tr>\n",
       "  <th>Seconds of Use</th>          <td>    0.4704</td> <td>    0.595</td> <td>    0.790</td> <td> 0.429</td> <td>   -0.696</td> <td>    1.637</td>\n",
       "</tr>\n",
       "<tr>\n",
       "  <th>Frequency of use</th>        <td>   -3.1744</td> <td>    0.487</td> <td>   -6.518</td> <td> 0.000</td> <td>   -4.129</td> <td>   -2.220</td>\n",
       "</tr>\n",
       "<tr>\n",
       "  <th>Frequency of SMS</th>        <td>   -5.2513</td> <td>    1.365</td> <td>   -3.848</td> <td> 0.000</td> <td>   -7.926</td> <td>   -2.577</td>\n",
       "</tr>\n",
       "<tr>\n",
       "  <th>Distinct Called Numbers</th> <td>   -0.1907</td> <td>    0.166</td> <td>   -1.150</td> <td> 0.250</td> <td>   -0.516</td> <td>    0.134</td>\n",
       "</tr>\n",
       "<tr>\n",
       "  <th>Age Group</th>               <td>    0.1067</td> <td>    0.099</td> <td>    1.077</td> <td> 0.281</td> <td>   -0.087</td> <td>    0.301</td>\n",
       "</tr>\n",
       "<tr>\n",
       "  <th>Tariff Plan</th>             <td>    0.0643</td> <td>    0.169</td> <td>    0.381</td> <td> 0.703</td> <td>   -0.266</td> <td>    0.395</td>\n",
       "</tr>\n",
       "<tr>\n",
       "  <th>Status</th>                  <td>    0.6085</td> <td>    0.087</td> <td>    7.013</td> <td> 0.000</td> <td>    0.438</td> <td>    0.779</td>\n",
       "</tr>\n",
       "<tr>\n",
       "  <th>Customer Value</th>          <td>    4.2351</td> <td>    1.449</td> <td>    2.922</td> <td> 0.003</td> <td>    1.395</td> <td>    7.076</td>\n",
       "</tr>\n",
       "<tr>\n",
       "  <th>constant</th>                <td>   -3.5025</td> <td>    0.186</td> <td>  -18.803</td> <td> 0.000</td> <td>   -3.868</td> <td>   -3.137</td>\n",
       "</tr>\n",
       "</table>"
      ],
      "text/latex": [
       "\\begin{center}\n",
       "\\begin{tabular}{lclc}\n",
       "\\toprule\n",
       "\\textbf{Dep. Variable:}          &      Churn       & \\textbf{  No. Observations:  } &     3150    \\\\\n",
       "\\textbf{Model:}                  &      Logit       & \\textbf{  Df Residuals:      } &     3137    \\\\\n",
       "\\textbf{Method:}                 &       MLE        & \\textbf{  Df Model:          } &       12    \\\\\n",
       "\\textbf{Date:}                   & Sat, 03 Feb 2024 & \\textbf{  Pseudo R-squ.:     } &   0.4945    \\\\\n",
       "\\textbf{Time:}                   &     15:21:44     & \\textbf{  Log-Likelihood:    } &   -692.56   \\\\\n",
       "\\textbf{converged:}              &       True       & \\textbf{  LL-Null:           } &   -1369.9   \\\\\n",
       "\\textbf{Covariance Type:}        &    nonrobust     & \\textbf{  LLR p-value:       } & 7.893e-283  \\\\\n",
       "\\bottomrule\n",
       "\\end{tabular}\n",
       "\\begin{tabular}{lcccccc}\n",
       "                                 & \\textbf{coef} & \\textbf{std err} & \\textbf{z} & \\textbf{P$> |$z$|$} & \\textbf{[0.025} & \\textbf{0.975]}  \\\\\n",
       "\\midrule\n",
       "\\textbf{Call  Failure}           &       0.9540  &        0.129     &     7.394  &         0.000        &        0.701    &        1.207     \\\\\n",
       "\\textbf{Complains}               &       1.0745  &        0.075     &    14.320  &         0.000        &        0.927    &        1.222     \\\\\n",
       "\\textbf{Subscription  Length}    &      -0.2567  &        0.082     &    -3.149  &         0.002        &       -0.416    &       -0.097     \\\\\n",
       "\\textbf{Charge  Amount}          &      -0.6318  &        0.183     &    -3.448  &         0.001        &       -0.991    &       -0.273     \\\\\n",
       "\\textbf{Seconds of Use}          &       0.4704  &        0.595     &     0.790  &         0.429        &       -0.696    &        1.637     \\\\\n",
       "\\textbf{Frequency of use}        &      -3.1744  &        0.487     &    -6.518  &         0.000        &       -4.129    &       -2.220     \\\\\n",
       "\\textbf{Frequency of SMS}        &      -5.2513  &        1.365     &    -3.848  &         0.000        &       -7.926    &       -2.577     \\\\\n",
       "\\textbf{Distinct Called Numbers} &      -0.1907  &        0.166     &    -1.150  &         0.250        &       -0.516    &        0.134     \\\\\n",
       "\\textbf{Age Group}               &       0.1067  &        0.099     &     1.077  &         0.281        &       -0.087    &        0.301     \\\\\n",
       "\\textbf{Tariff Plan}             &       0.0643  &        0.169     &     0.381  &         0.703        &       -0.266    &        0.395     \\\\\n",
       "\\textbf{Status}                  &       0.6085  &        0.087     &     7.013  &         0.000        &        0.438    &        0.779     \\\\\n",
       "\\textbf{Customer Value}          &       4.2351  &        1.449     &     2.922  &         0.003        &        1.395    &        7.076     \\\\\n",
       "\\textbf{constant}                &      -3.5025  &        0.186     &   -18.803  &         0.000        &       -3.868    &       -3.137     \\\\\n",
       "\\bottomrule\n",
       "\\end{tabular}\n",
       "%\\caption{Logit Regression Results}\n",
       "\\end{center}"
      ],
      "text/plain": [
       "<class 'statsmodels.iolib.summary.Summary'>\n",
       "\"\"\"\n",
       "                           Logit Regression Results                           \n",
       "==============================================================================\n",
       "Dep. Variable:                  Churn   No. Observations:                 3150\n",
       "Model:                          Logit   Df Residuals:                     3137\n",
       "Method:                           MLE   Df Model:                           12\n",
       "Date:                Sat, 03 Feb 2024   Pseudo R-squ.:                  0.4945\n",
       "Time:                        15:21:44   Log-Likelihood:                -692.56\n",
       "converged:                       True   LL-Null:                       -1369.9\n",
       "Covariance Type:            nonrobust   LLR p-value:                7.893e-283\n",
       "===========================================================================================\n",
       "                              coef    std err          z      P>|z|      [0.025      0.975]\n",
       "-------------------------------------------------------------------------------------------\n",
       "Call  Failure               0.9540      0.129      7.394      0.000       0.701       1.207\n",
       "Complains                   1.0745      0.075     14.320      0.000       0.927       1.222\n",
       "Subscription  Length       -0.2567      0.082     -3.149      0.002      -0.416      -0.097\n",
       "Charge  Amount             -0.6318      0.183     -3.448      0.001      -0.991      -0.273\n",
       "Seconds of Use              0.4704      0.595      0.790      0.429      -0.696       1.637\n",
       "Frequency of use           -3.1744      0.487     -6.518      0.000      -4.129      -2.220\n",
       "Frequency of SMS           -5.2513      1.365     -3.848      0.000      -7.926      -2.577\n",
       "Distinct Called Numbers    -0.1907      0.166     -1.150      0.250      -0.516       0.134\n",
       "Age Group                   0.1067      0.099      1.077      0.281      -0.087       0.301\n",
       "Tariff Plan                 0.0643      0.169      0.381      0.703      -0.266       0.395\n",
       "Status                      0.6085      0.087      7.013      0.000       0.438       0.779\n",
       "Customer Value              4.2351      1.449      2.922      0.003       1.395       7.076\n",
       "constant                   -3.5025      0.186    -18.803      0.000      -3.868      -3.137\n",
       "===========================================================================================\n",
       "\"\"\""
      ]
     },
     "execution_count": 65,
     "metadata": {},
     "output_type": "execute_result"
    }
   ],
   "source": [
    "logit_model = sm.Logit(Y3, X3)\n",
    "result = logit_model.fit()\n",
    "result.summary()"
   ]
  },
  {
   "cell_type": "markdown",
   "id": "bb2082b2-0747-4d91-8d78-8b0d01a2b8b4",
   "metadata": {
    "id": "bb2082b2-0747-4d91-8d78-8b0d01a2b8b4"
   },
   "source": [
    "## Use Permutation feature importance"
   ]
  },
  {
   "cell_type": "markdown",
   "id": "fa3705d2-2954-41f9-8cd8-5448ab2709fa",
   "metadata": {
    "id": "fa3705d2-2954-41f9-8cd8-5448ab2709fa"
   },
   "source": [
    "The `permutation feature importance` is defined to be the decrease in a model score when a single feature value is randomly shuffled. This procedure breaks the relationship between the feature and the target, thus the drop in the model score is indicative of how much the model depends on the feature."
   ]
  },
  {
   "cell_type": "code",
   "execution_count": null,
   "id": "18e9ffdd-3541-4bb2-9a5c-b304433d47df",
   "metadata": {
    "id": "18e9ffdd-3541-4bb2-9a5c-b304433d47df"
   },
   "outputs": [],
   "source": [
    "from sklearn.inspection import permutation_importance\n",
    "\n",
    "rf = RandomForestClassifier(class_weight = 'balanced_subsample',\n",
    "                            criterion= 'entropy',\n",
    "                            max_depth= None,\n",
    "                            n_estimators = 500)\n",
    "rf.fit(X, Y)\n",
    "\n",
    "results = permutation_importance(rf, X, Y, n_repeats=10)"
   ]
  },
  {
   "cell_type": "code",
   "execution_count": null,
   "id": "6f2e2e40-54c5-4daa-8142-55db7fd6056f",
   "metadata": {
    "colab": {
     "base_uri": "https://localhost:8080/"
    },
    "id": "6f2e2e40-54c5-4daa-8142-55db7fd6056f",
    "outputId": "3076f6ec-9459-433a-8f3c-8f79fed697f1"
   },
   "outputs": [
    {
     "data": {
      "text/plain": [
       "{'importances_mean': array([0.01888136, 0.04962712, 0.03725424, 0.00122034, 0.04125424,\n",
       "        0.05450847, 0.0120339 , 0.02677966, 0.02176271, 0.        ,\n",
       "        0.06176271, 0.02772881]),\n",
       " 'importances_std': array([0.00105085, 0.00123345, 0.00253422, 0.00064674, 0.00196522,\n",
       "        0.00361871, 0.0012524 , 0.0031509 , 0.00227801, 0.        ,\n",
       "        0.00280272, 0.00136269]),\n",
       " 'importances': array([[0.01762712, 0.02      , 0.01830508, 0.0179661 , 0.01830508,\n",
       "         0.01966102, 0.01864407, 0.02      , 0.01762712, 0.02067797],\n",
       "        [0.05050847, 0.05084746, 0.05084746, 0.04983051, 0.04711864,\n",
       "         0.04983051, 0.04949153, 0.04779661, 0.04915254, 0.05084746],\n",
       "        [0.03762712, 0.03728814, 0.03559322, 0.03864407, 0.03694915,\n",
       "         0.03694915, 0.04135593, 0.03423729, 0.04101695, 0.03288136],\n",
       "        [0.0020339 , 0.        , 0.00101695, 0.00169492, 0.0020339 ,\n",
       "         0.00101695, 0.00135593, 0.00033898, 0.00101695, 0.00169492],\n",
       "        [0.04135593, 0.04033898, 0.03830508, 0.04101695, 0.04033898,\n",
       "         0.03864407, 0.04237288, 0.04135593, 0.0440678 , 0.04474576],\n",
       "        [0.05389831, 0.05355932, 0.05186441, 0.05728814, 0.0579661 ,\n",
       "         0.05728814, 0.05423729, 0.06      , 0.04677966, 0.05220339],\n",
       "        [0.01389831, 0.01152542, 0.01220339, 0.01152542, 0.01423729,\n",
       "         0.01084746, 0.01254237, 0.00983051, 0.01220339, 0.01152542],\n",
       "        [0.02983051, 0.02949153, 0.02542373, 0.02745763, 0.02779661,\n",
       "         0.02576271, 0.03016949, 0.02711864, 0.02610169, 0.01864407],\n",
       "        [0.02372881, 0.02237288, 0.02610169, 0.01966102, 0.01966102,\n",
       "         0.0240678 , 0.02033898, 0.02033898, 0.01864407, 0.02271186],\n",
       "        [0.        , 0.        , 0.        , 0.        , 0.        ,\n",
       "         0.        , 0.        , 0.        , 0.        , 0.        ],\n",
       "        [0.06237288, 0.06338983, 0.05966102, 0.05559322, 0.06237288,\n",
       "         0.06067797, 0.06      , 0.06644068, 0.06372881, 0.06338983],\n",
       "        [0.02677966, 0.02677966, 0.02677966, 0.02610169, 0.03050847,\n",
       "         0.02745763, 0.02881356, 0.02915254, 0.02847458, 0.02644068]])}"
      ]
     },
     "execution_count": 67,
     "metadata": {},
     "output_type": "execute_result"
    }
   ],
   "source": [
    "results"
   ]
  },
  {
   "cell_type": "code",
   "execution_count": null,
   "id": "5d643a35-84bb-4373-afba-28cc4bf4ca10",
   "metadata": {
    "colab": {
     "base_uri": "https://localhost:8080/",
     "height": 425
    },
    "id": "5d643a35-84bb-4373-afba-28cc4bf4ca10",
    "outputId": "8e6408b9-820f-468b-f2c0-cc4394a686ff"
   },
   "outputs": [
    {
     "data": {
      "text/html": [
       "\n",
       "  <div id=\"df-54c4cffe-c832-4949-b100-a9abe910b6cf\" class=\"colab-df-container\">\n",
       "    <div>\n",
       "<style scoped>\n",
       "    .dataframe tbody tr th:only-of-type {\n",
       "        vertical-align: middle;\n",
       "    }\n",
       "\n",
       "    .dataframe tbody tr th {\n",
       "        vertical-align: top;\n",
       "    }\n",
       "\n",
       "    .dataframe thead th {\n",
       "        text-align: right;\n",
       "    }\n",
       "</style>\n",
       "<table border=\"1\" class=\"dataframe\">\n",
       "  <thead>\n",
       "    <tr style=\"text-align: right;\">\n",
       "      <th></th>\n",
       "      <th>Feature Importance</th>\n",
       "      <th>STD</th>\n",
       "    </tr>\n",
       "  </thead>\n",
       "  <tbody>\n",
       "    <tr>\n",
       "      <th>Status</th>\n",
       "      <td>0.061797</td>\n",
       "      <td>0.002197</td>\n",
       "    </tr>\n",
       "    <tr>\n",
       "      <th>Complains</th>\n",
       "      <td>0.054102</td>\n",
       "      <td>0.001584</td>\n",
       "    </tr>\n",
       "    <tr>\n",
       "      <th>Frequency of use</th>\n",
       "      <td>0.053119</td>\n",
       "      <td>0.002249</td>\n",
       "    </tr>\n",
       "    <tr>\n",
       "      <th>Seconds of Use</th>\n",
       "      <td>0.042508</td>\n",
       "      <td>0.002687</td>\n",
       "    </tr>\n",
       "    <tr>\n",
       "      <th>Subscription  Length</th>\n",
       "      <td>0.039017</td>\n",
       "      <td>0.002048</td>\n",
       "    </tr>\n",
       "    <tr>\n",
       "      <th>Distinct Called Numbers</th>\n",
       "      <td>0.033051</td>\n",
       "      <td>0.003235</td>\n",
       "    </tr>\n",
       "    <tr>\n",
       "      <th>Customer Value</th>\n",
       "      <td>0.025220</td>\n",
       "      <td>0.002821</td>\n",
       "    </tr>\n",
       "    <tr>\n",
       "      <th>Age Group</th>\n",
       "      <td>0.023525</td>\n",
       "      <td>0.001995</td>\n",
       "    </tr>\n",
       "    <tr>\n",
       "      <th>Call  Failure</th>\n",
       "      <td>0.018542</td>\n",
       "      <td>0.001462</td>\n",
       "    </tr>\n",
       "    <tr>\n",
       "      <th>Frequency of SMS</th>\n",
       "      <td>0.012102</td>\n",
       "      <td>0.001661</td>\n",
       "    </tr>\n",
       "    <tr>\n",
       "      <th>Charge  Amount</th>\n",
       "      <td>0.001424</td>\n",
       "      <td>0.000365</td>\n",
       "    </tr>\n",
       "    <tr>\n",
       "      <th>Tariff Plan</th>\n",
       "      <td>0.000000</td>\n",
       "      <td>0.000000</td>\n",
       "    </tr>\n",
       "  </tbody>\n",
       "</table>\n",
       "</div>\n",
       "    <div class=\"colab-df-buttons\">\n",
       "\n",
       "  <div class=\"colab-df-container\">\n",
       "    <button class=\"colab-df-convert\" onclick=\"convertToInteractive('df-54c4cffe-c832-4949-b100-a9abe910b6cf')\"\n",
       "            title=\"Convert this dataframe to an interactive table.\"\n",
       "            style=\"display:none;\">\n",
       "\n",
       "  <svg xmlns=\"http://www.w3.org/2000/svg\" height=\"24px\" viewBox=\"0 -960 960 960\">\n",
       "    <path d=\"M120-120v-720h720v720H120Zm60-500h600v-160H180v160Zm220 220h160v-160H400v160Zm0 220h160v-160H400v160ZM180-400h160v-160H180v160Zm440 0h160v-160H620v160ZM180-180h160v-160H180v160Zm440 0h160v-160H620v160Z\"/>\n",
       "  </svg>\n",
       "    </button>\n",
       "\n",
       "  <style>\n",
       "    .colab-df-container {\n",
       "      display:flex;\n",
       "      gap: 12px;\n",
       "    }\n",
       "\n",
       "    .colab-df-convert {\n",
       "      background-color: #E8F0FE;\n",
       "      border: none;\n",
       "      border-radius: 50%;\n",
       "      cursor: pointer;\n",
       "      display: none;\n",
       "      fill: #1967D2;\n",
       "      height: 32px;\n",
       "      padding: 0 0 0 0;\n",
       "      width: 32px;\n",
       "    }\n",
       "\n",
       "    .colab-df-convert:hover {\n",
       "      background-color: #E2EBFA;\n",
       "      box-shadow: 0px 1px 2px rgba(60, 64, 67, 0.3), 0px 1px 3px 1px rgba(60, 64, 67, 0.15);\n",
       "      fill: #174EA6;\n",
       "    }\n",
       "\n",
       "    .colab-df-buttons div {\n",
       "      margin-bottom: 4px;\n",
       "    }\n",
       "\n",
       "    [theme=dark] .colab-df-convert {\n",
       "      background-color: #3B4455;\n",
       "      fill: #D2E3FC;\n",
       "    }\n",
       "\n",
       "    [theme=dark] .colab-df-convert:hover {\n",
       "      background-color: #434B5C;\n",
       "      box-shadow: 0px 1px 3px 1px rgba(0, 0, 0, 0.15);\n",
       "      filter: drop-shadow(0px 1px 2px rgba(0, 0, 0, 0.3));\n",
       "      fill: #FFFFFF;\n",
       "    }\n",
       "  </style>\n",
       "\n",
       "    <script>\n",
       "      const buttonEl =\n",
       "        document.querySelector('#df-54c4cffe-c832-4949-b100-a9abe910b6cf button.colab-df-convert');\n",
       "      buttonEl.style.display =\n",
       "        google.colab.kernel.accessAllowed ? 'block' : 'none';\n",
       "\n",
       "      async function convertToInteractive(key) {\n",
       "        const element = document.querySelector('#df-54c4cffe-c832-4949-b100-a9abe910b6cf');\n",
       "        const dataTable =\n",
       "          await google.colab.kernel.invokeFunction('convertToInteractive',\n",
       "                                                    [key], {});\n",
       "        if (!dataTable) return;\n",
       "\n",
       "        const docLinkHtml = 'Like what you see? Visit the ' +\n",
       "          '<a target=\"_blank\" href=https://colab.research.google.com/notebooks/data_table.ipynb>data table notebook</a>'\n",
       "          + ' to learn more about interactive tables.';\n",
       "        element.innerHTML = '';\n",
       "        dataTable['output_type'] = 'display_data';\n",
       "        await google.colab.output.renderOutput(dataTable, element);\n",
       "        const docLink = document.createElement('div');\n",
       "        docLink.innerHTML = docLinkHtml;\n",
       "        element.appendChild(docLink);\n",
       "      }\n",
       "    </script>\n",
       "  </div>\n",
       "\n",
       "\n",
       "<div id=\"df-afabf84c-dd19-4b4c-a387-3228b753accc\">\n",
       "  <button class=\"colab-df-quickchart\" onclick=\"quickchart('df-afabf84c-dd19-4b4c-a387-3228b753accc')\"\n",
       "            title=\"Suggest charts\"\n",
       "            style=\"display:none;\">\n",
       "\n",
       "<svg xmlns=\"http://www.w3.org/2000/svg\" height=\"24px\"viewBox=\"0 0 24 24\"\n",
       "     width=\"24px\">\n",
       "    <g>\n",
       "        <path d=\"M19 3H5c-1.1 0-2 .9-2 2v14c0 1.1.9 2 2 2h14c1.1 0 2-.9 2-2V5c0-1.1-.9-2-2-2zM9 17H7v-7h2v7zm4 0h-2V7h2v10zm4 0h-2v-4h2v4z\"/>\n",
       "    </g>\n",
       "</svg>\n",
       "  </button>\n",
       "\n",
       "<style>\n",
       "  .colab-df-quickchart {\n",
       "      --bg-color: #E8F0FE;\n",
       "      --fill-color: #1967D2;\n",
       "      --hover-bg-color: #E2EBFA;\n",
       "      --hover-fill-color: #174EA6;\n",
       "      --disabled-fill-color: #AAA;\n",
       "      --disabled-bg-color: #DDD;\n",
       "  }\n",
       "\n",
       "  [theme=dark] .colab-df-quickchart {\n",
       "      --bg-color: #3B4455;\n",
       "      --fill-color: #D2E3FC;\n",
       "      --hover-bg-color: #434B5C;\n",
       "      --hover-fill-color: #FFFFFF;\n",
       "      --disabled-bg-color: #3B4455;\n",
       "      --disabled-fill-color: #666;\n",
       "  }\n",
       "\n",
       "  .colab-df-quickchart {\n",
       "    background-color: var(--bg-color);\n",
       "    border: none;\n",
       "    border-radius: 50%;\n",
       "    cursor: pointer;\n",
       "    display: none;\n",
       "    fill: var(--fill-color);\n",
       "    height: 32px;\n",
       "    padding: 0;\n",
       "    width: 32px;\n",
       "  }\n",
       "\n",
       "  .colab-df-quickchart:hover {\n",
       "    background-color: var(--hover-bg-color);\n",
       "    box-shadow: 0 1px 2px rgba(60, 64, 67, 0.3), 0 1px 3px 1px rgba(60, 64, 67, 0.15);\n",
       "    fill: var(--button-hover-fill-color);\n",
       "  }\n",
       "\n",
       "  .colab-df-quickchart-complete:disabled,\n",
       "  .colab-df-quickchart-complete:disabled:hover {\n",
       "    background-color: var(--disabled-bg-color);\n",
       "    fill: var(--disabled-fill-color);\n",
       "    box-shadow: none;\n",
       "  }\n",
       "\n",
       "  .colab-df-spinner {\n",
       "    border: 2px solid var(--fill-color);\n",
       "    border-color: transparent;\n",
       "    border-bottom-color: var(--fill-color);\n",
       "    animation:\n",
       "      spin 1s steps(1) infinite;\n",
       "  }\n",
       "\n",
       "  @keyframes spin {\n",
       "    0% {\n",
       "      border-color: transparent;\n",
       "      border-bottom-color: var(--fill-color);\n",
       "      border-left-color: var(--fill-color);\n",
       "    }\n",
       "    20% {\n",
       "      border-color: transparent;\n",
       "      border-left-color: var(--fill-color);\n",
       "      border-top-color: var(--fill-color);\n",
       "    }\n",
       "    30% {\n",
       "      border-color: transparent;\n",
       "      border-left-color: var(--fill-color);\n",
       "      border-top-color: var(--fill-color);\n",
       "      border-right-color: var(--fill-color);\n",
       "    }\n",
       "    40% {\n",
       "      border-color: transparent;\n",
       "      border-right-color: var(--fill-color);\n",
       "      border-top-color: var(--fill-color);\n",
       "    }\n",
       "    60% {\n",
       "      border-color: transparent;\n",
       "      border-right-color: var(--fill-color);\n",
       "    }\n",
       "    80% {\n",
       "      border-color: transparent;\n",
       "      border-right-color: var(--fill-color);\n",
       "      border-bottom-color: var(--fill-color);\n",
       "    }\n",
       "    90% {\n",
       "      border-color: transparent;\n",
       "      border-bottom-color: var(--fill-color);\n",
       "    }\n",
       "  }\n",
       "</style>\n",
       "\n",
       "  <script>\n",
       "    async function quickchart(key) {\n",
       "      const quickchartButtonEl =\n",
       "        document.querySelector('#' + key + ' button');\n",
       "      quickchartButtonEl.disabled = true;  // To prevent multiple clicks.\n",
       "      quickchartButtonEl.classList.add('colab-df-spinner');\n",
       "      try {\n",
       "        const charts = await google.colab.kernel.invokeFunction(\n",
       "            'suggestCharts', [key], {});\n",
       "      } catch (error) {\n",
       "        console.error('Error during call to suggestCharts:', error);\n",
       "      }\n",
       "      quickchartButtonEl.classList.remove('colab-df-spinner');\n",
       "      quickchartButtonEl.classList.add('colab-df-quickchart-complete');\n",
       "    }\n",
       "    (() => {\n",
       "      let quickchartButtonEl =\n",
       "        document.querySelector('#df-afabf84c-dd19-4b4c-a387-3228b753accc button');\n",
       "      quickchartButtonEl.style.display =\n",
       "        google.colab.kernel.accessAllowed ? 'block' : 'none';\n",
       "    })();\n",
       "  </script>\n",
       "</div>\n",
       "\n",
       "  <div id=\"id_09a21c7e-5a04-414a-b358-73ac340cc142\">\n",
       "    <style>\n",
       "      .colab-df-generate {\n",
       "        background-color: #E8F0FE;\n",
       "        border: none;\n",
       "        border-radius: 50%;\n",
       "        cursor: pointer;\n",
       "        display: none;\n",
       "        fill: #1967D2;\n",
       "        height: 32px;\n",
       "        padding: 0 0 0 0;\n",
       "        width: 32px;\n",
       "      }\n",
       "\n",
       "      .colab-df-generate:hover {\n",
       "        background-color: #E2EBFA;\n",
       "        box-shadow: 0px 1px 2px rgba(60, 64, 67, 0.3), 0px 1px 3px 1px rgba(60, 64, 67, 0.15);\n",
       "        fill: #174EA6;\n",
       "      }\n",
       "\n",
       "      [theme=dark] .colab-df-generate {\n",
       "        background-color: #3B4455;\n",
       "        fill: #D2E3FC;\n",
       "      }\n",
       "\n",
       "      [theme=dark] .colab-df-generate:hover {\n",
       "        background-color: #434B5C;\n",
       "        box-shadow: 0px 1px 3px 1px rgba(0, 0, 0, 0.15);\n",
       "        filter: drop-shadow(0px 1px 2px rgba(0, 0, 0, 0.3));\n",
       "        fill: #FFFFFF;\n",
       "      }\n",
       "    </style>\n",
       "    <button class=\"colab-df-generate\" onclick=\"generateWithVariable('results2')\"\n",
       "            title=\"Generate code using this dataframe.\"\n",
       "            style=\"display:none;\">\n",
       "\n",
       "  <svg xmlns=\"http://www.w3.org/2000/svg\" height=\"24px\"viewBox=\"0 0 24 24\"\n",
       "       width=\"24px\">\n",
       "    <path d=\"M7,19H8.4L18.45,9,17,7.55,7,17.6ZM5,21V16.75L18.45,3.32a2,2,0,0,1,2.83,0l1.4,1.43a1.91,1.91,0,0,1,.58,1.4,1.91,1.91,0,0,1-.58,1.4L9.25,21ZM18.45,9,17,7.55Zm-12,3A5.31,5.31,0,0,0,4.9,8.1,5.31,5.31,0,0,0,1,6.5,5.31,5.31,0,0,0,4.9,4.9,5.31,5.31,0,0,0,6.5,1,5.31,5.31,0,0,0,8.1,4.9,5.31,5.31,0,0,0,12,6.5,5.46,5.46,0,0,0,6.5,12Z\"/>\n",
       "  </svg>\n",
       "    </button>\n",
       "    <script>\n",
       "      (() => {\n",
       "      const buttonEl =\n",
       "        document.querySelector('#id_09a21c7e-5a04-414a-b358-73ac340cc142 button.colab-df-generate');\n",
       "      buttonEl.style.display =\n",
       "        google.colab.kernel.accessAllowed ? 'block' : 'none';\n",
       "\n",
       "      buttonEl.onclick = () => {\n",
       "        google.colab.notebook.generateWithVariable('results2');\n",
       "      }\n",
       "      })();\n",
       "    </script>\n",
       "  </div>\n",
       "\n",
       "    </div>\n",
       "  </div>\n"
      ],
      "text/plain": [
       "                         Feature Importance       STD\n",
       "Status                             0.061797  0.002197\n",
       "Complains                          0.054102  0.001584\n",
       "Frequency of use                   0.053119  0.002249\n",
       "Seconds of Use                     0.042508  0.002687\n",
       "Subscription  Length               0.039017  0.002048\n",
       "Distinct Called Numbers            0.033051  0.003235\n",
       "Customer Value                     0.025220  0.002821\n",
       "Age Group                          0.023525  0.001995\n",
       "Call  Failure                      0.018542  0.001462\n",
       "Frequency of SMS                   0.012102  0.001661\n",
       "Charge  Amount                     0.001424  0.000365\n",
       "Tariff Plan                        0.000000  0.000000"
      ]
     },
     "execution_count": 39,
     "metadata": {},
     "output_type": "execute_result"
    }
   ],
   "source": [
    "## rearrange the results as dataframe\n",
    "results2 = pd.DataFrame({\"Feature Importance\": results['importances_mean'],\n",
    "                       \"STD\": results['importances_std']}, index=features)\n",
    "results2.sort_values(\"Feature Importance\", inplace=True, ascending=False)\n",
    "results2"
   ]
  },
  {
   "cell_type": "markdown",
   "id": "92f07f0f",
   "metadata": {
    "id": "92f07f0f"
   },
   "source": [
    "- Generate a horizontal bar plot to show the feature importance of different features in determining the customer churn."
   ]
  },
  {
   "cell_type": "code",
   "execution_count": null,
   "id": "Ww-khUF7Yzex",
   "metadata": {
    "colab": {
     "base_uri": "https://localhost:8080/",
     "height": 498
    },
    "id": "Ww-khUF7Yzex",
    "outputId": "c0dfa6a9-7e76-4ee7-8b6d-9307a69ddc98"
   },
   "outputs": [
    {
     "data": {
      "image/png": "[encoded data removed]",
      "text/plain": [
       "<Figure size 1600x800 with 1 Axes>"
      ]
     },
     "metadata": {},
     "output_type": "display_data"
    }
   ],
   "source": [
    "import matplotlib.pyplot as plt\n",
    "\n",
    "# Create a DataFrame with feature importance data\n",
    "results2 = pd.DataFrame({\"Feature Importance\": results['importances_mean'],\n",
    "                       \"STD\": results['importances_std']}, index=features)\n",
    "\n",
    "# Sort the DataFrame by Feature Importance in descending order\n",
    "results2.sort_values(\"Feature Importance\", inplace=True, ascending=False)\n",
    "\n",
    "# Create a horizontal bar plot without displaying the blackline\n",
    "plt.figure(figsize=(16, 8))\n",
    "bars = plt.barh(results2.index, results2['Feature Importance'], color='skyblue', alpha=0.7)\n",
    "plt.xlabel('Feature Importance')\n",
    "plt.title('Feature Importance for Customer Churn Prediction')\n",
    "\n",
    "# Add feature importance values to the right of each bar\n",
    "for bar in bars:\n",
    "    width = bar.get_width()\n",
    "    plt.annotate(f'{width:.4f}', xy=(width, bar.get_y() + bar.get_height() / 2), xytext=(5, 0),\n",
    "                 textcoords='offset points', va='center')\n",
    "\n",
    "plt.gca().invert_yaxis()  # Invert the y-axis for better readability\n",
    "plt.show()"
   ]
  },
  {
   "cell_type": "markdown",
   "id": "DzeuEjU87otE",
   "metadata": {
    "id": "DzeuEjU87otE"
   },
   "source": [
    "Customer status is the most important factors leading to predict customers churn."
   ]
  }
 ],
 "metadata": {
  "colab": {
   "provenance": [],
   "toc_visible": true
  },
  "kernelspec": {
   "display_name": "Python 3 (ipykernel)",
   "language": "python",
   "name": "python3"
  },
  "language_info": {
   "codemirror_mode": {
    "name": "ipython",
    "version": 3
   },
   "file_extension": ".py",
   "mimetype": "text/x-python",
   "name": "python",
   "nbconvert_exporter": "python",
   "pygments_lexer": "ipython3",
   "version": "3.11.7"
  }
 },
 "nbformat": 4,
 "nbformat_minor": 5
}
