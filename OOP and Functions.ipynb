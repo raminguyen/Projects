{
  "nbformat": 4,
  "nbformat_minor": 0,
  "metadata": {
    "colab": {
      "provenance": []
    },
    "kernelspec": {
      "name": "python3",
      "display_name": "Python 3"
    },
    "language_info": {
      "name": "python"
    }
  },
  "cells": [
    {
      "cell_type": "code",
      "source": [
        "class bankAccounts:\n",
        "    def __init__ (self, owner =\"John Smith\", balance = 1500, rate = 0.01):\n",
        "        self.owner = owner\n",
        "        self.balance = balance\n",
        "        self.rate = rate\n",
        "        print(\"Your account name is\", self.owner)\n",
        "\n",
        "    def setRate (self, rate = 0.08): #set a new bank rate\n",
        "        self.rate = 0.08\n",
        "        print(\"Your new interest rate is\", self.rate)\n",
        "\n",
        "    def getExpectedInterest (self): #caculate bank interest\n",
        "        expected_interest = self.balance * ((1+self.rate/12)** 12) - self.balance\n",
        "        print (\"John Smith's expected income interest is: \", expected_interest)\n",
        "\n",
        "#Test my work\n",
        "John_Smith = bankAccounts (\"John Smith\",1500,0.01)\n",
        "John_Smith.setRate (0.08)\n",
        "expected_interest = John_Smith.getExpectedInterest()"
      ],
      "metadata": {
        "colab": {
          "base_uri": "https://localhost:8080/"
        },
        "id": "W2TxQ_9QHk50",
        "outputId": "f7fa3053-2adc-4f95-83bf-629ea8d94951"
      },
      "execution_count": 2,
      "outputs": [
        {
          "output_type": "stream",
          "name": "stdout",
          "text": [
            "Your account name is John Smith\n",
            "Your new interest rate is 0.08\n",
            "John Smith's expected income interest is:  124.49926021126475\n"
          ]
        }
      ]
    },
    {
      "cell_type": "code",
      "execution_count": 1,
      "metadata": {
        "colab": {
          "base_uri": "https://localhost:8080/"
        },
        "id": "FgJTcRcpHYo8",
        "outputId": "b6676cdb-72ae-4d74-94af-cc8422e9a5c5"
      },
      "outputs": [
        {
          "output_type": "stream",
          "name": "stdout",
          "text": [
            "Welcome! Please input your password at least 8 characters long that needs at least one lowercase + one digit + one puntuation.rami\n",
            "Please enter your password again: Rami\n",
            "Please enter your password again.\n",
            "Please input your password at least 8 characters long that needs at least one lowercase + one digit + one puntuation.Hello\n",
            "Please enter your password again.\n",
            "Please input your password at least 8 characters long that needs at least one lowercase + one digit + one puntuation.123123\n",
            "Please enter your password again.\n",
            "Please input your password at least 8 characters long that needs at least one lowercase + one digit + one puntuation.Rami02121993@\n",
            "Your password is correct.\n"
          ]
        }
      ],
      "source": [
        "import string\n",
        "\n",
        "password = input('Welcome! Please input your password at least 8 characters long that needs at least one lowercase + one digit + one puntuation.')\n",
        "\n",
        "def password_check (password):\n",
        "\n",
        "    'use False to flip them to True - assign variable equals boolean variables'\n",
        "    one_punctuation = False\n",
        "    one_digit = False\n",
        "    one_lowercase = False\n",
        "\n",
        "    while len (password) < 8:\n",
        "        print ('Please enter your password again.')\n",
        "        password = input('Please input your password at least 8 characters long that needs at least one lowercase + one digit + one puntuation.')\n",
        "\n",
        "    for c in password:\n",
        "\n",
        "        if c in string.punctuation:\n",
        "            one_punctuation = True\n",
        "\n",
        "        if c.isdigit():\n",
        "            one_digit = True\n",
        "\n",
        "        if c.islower():\n",
        "            one_lowercase = True\n",
        "\n",
        "    if len (password) > 8 and one_punctuation == True and one_digit == True and one_lowercase == True:\n",
        "        print ('Your password is correct.')\n",
        "        return True\n",
        "\n",
        "    if not one_punctuation == True:\n",
        "        print('Your password needs at least a puctuation.')\n",
        "\n",
        "    if not one_digit == True:\n",
        "        print ('Your password needs at least a digit.')\n",
        "\n",
        "    if not one_lowercase == True:\n",
        "        print ('Your password needs at least a lowercase.')\n",
        "\n",
        "    else:\n",
        "        print ('Your password is wrong.')\n",
        "        return False\n",
        "\n",
        "password = True\n",
        "while (password):\n",
        "    password = input('Please enter your password again: ')\n",
        "\n",
        "    if password_check(password):\n",
        "        break\n"
      ]
    }
  ]
}